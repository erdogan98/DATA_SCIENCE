{
  "cells": [
    {
      "cell_type": "markdown",
      "metadata": {
        "id": "view-in-github",
        "colab_type": "text"
      },
      "source": [
        "<a href=\"https://colab.research.google.com/github/erdogan98/DATA_SCIENCE/blob/main/A1_coursework_template_MSc.ipynb\" target=\"_parent\"><img src=\"https://colab.research.google.com/assets/colab-badge.svg\" alt=\"Open In Colab\"/></a>"
      ]
    },
    {
      "cell_type": "markdown",
      "metadata": {
        "id": "cIg6enKVhhi4"
      },
      "source": [
        "\n",
        "\n",
        "## **COMP6685 Deep Learning Coursework A1**\n",
        "\n",
        "\n",
        "Individual (25% of total mark)\n",
        "\n",
        "\n",
        "**TASK:**\tYou are required to develop a phyton code with appropriate comments and answer questions.\n",
        "\n",
        "**Description**: Create a code using this temlate to train a Convolutional Neural Network (CNN) on the fashion MNIST dataset available at https://keras.io/api/datasets/fashion_mnist/ . \n",
        "\n",
        "Fashion MNIST is a dataset of 60,000 28x28 grayscale images of 10 fashion categories, along with a test set of 10,000 images.\n",
        "\n",
        "The dataset should be imported in the code and one sample image should be visualised before applying the model.\n",
        "\n",
        "Define a CNN and comment the chosen parameters of the network. Apply a regularization method (L1, L2 or L1L2). Divide the dataset into training, validation and test set. Obtain the accuracy on the validation set and plot the final results using the data from the test set. Comment your lines of code appropriately to explain your solution.\n",
        "\n",
        "Enhance the model's performance to obtain the best or optimal validation accuracy. Further questions about final remarks on the results will be answered on the markdown defined in the template.\n",
        "\n",
        "---\n",
        "---\n",
        "\n",
        "Note: This is only a template. You can add more code/text cells if necessary."
      ]
    },
    {
      "cell_type": "code",
      "execution_count": 1,
      "metadata": {
        "id": "FkERIusYhcK6",
        "colab": {
          "base_uri": "https://localhost:8080/"
        },
        "outputId": "ea236952-cbfa-4360-ee3e-bf46fefec77f"
      },
      "outputs": [
        {
          "output_type": "stream",
          "name": "stdout",
          "text": [
            "GPU 0: NVIDIA A100-SXM4-40GB (UUID: GPU-d7295205-fdbb-cd6c-6fca-f5365b376708)\n"
          ]
        }
      ],
      "source": [
        "!nvidia-smi -L"
      ]
    },
    {
      "cell_type": "markdown",
      "metadata": {
        "id": "qysRQbvOm1c4"
      },
      "source": [
        "Import the dataset and divide it appropriately into sets for cross-validation. **(10 marks)**\n",
        "\n",
        "---"
      ]
    },
    {
      "cell_type": "code",
      "source": [
        "!pip install livelossplot"
      ],
      "metadata": {
        "colab": {
          "base_uri": "https://localhost:8080/"
        },
        "id": "wIqoCZLkLU1X",
        "outputId": "a14f29ac-3d6b-48f0-caee-a5a335f09a7f"
      },
      "execution_count": 2,
      "outputs": [
        {
          "output_type": "stream",
          "name": "stdout",
          "text": [
            "Looking in indexes: https://pypi.org/simple, https://us-python.pkg.dev/colab-wheels/public/simple/\n",
            "Collecting livelossplot\n",
            "  Downloading livelossplot-0.5.5-py3-none-any.whl (22 kB)\n",
            "Requirement already satisfied: matplotlib in /usr/local/lib/python3.8/dist-packages (from livelossplot) (3.2.2)\n",
            "Requirement already satisfied: bokeh in /usr/local/lib/python3.8/dist-packages (from livelossplot) (2.3.3)\n",
            "Requirement already satisfied: numpy>=1.11.3 in /usr/local/lib/python3.8/dist-packages (from bokeh->livelossplot) (1.21.6)\n",
            "Requirement already satisfied: Jinja2>=2.9 in /usr/local/lib/python3.8/dist-packages (from bokeh->livelossplot) (2.11.3)\n",
            "Requirement already satisfied: packaging>=16.8 in /usr/local/lib/python3.8/dist-packages (from bokeh->livelossplot) (23.0)\n",
            "Requirement already satisfied: typing-extensions>=3.7.4 in /usr/local/lib/python3.8/dist-packages (from bokeh->livelossplot) (4.4.0)\n",
            "Requirement already satisfied: pillow>=7.1.0 in /usr/local/lib/python3.8/dist-packages (from bokeh->livelossplot) (7.1.2)\n",
            "Requirement already satisfied: python-dateutil>=2.1 in /usr/local/lib/python3.8/dist-packages (from bokeh->livelossplot) (2.8.2)\n",
            "Requirement already satisfied: tornado>=5.1 in /usr/local/lib/python3.8/dist-packages (from bokeh->livelossplot) (6.0.4)\n",
            "Requirement already satisfied: PyYAML>=3.10 in /usr/local/lib/python3.8/dist-packages (from bokeh->livelossplot) (6.0)\n",
            "Requirement already satisfied: pyparsing!=2.0.4,!=2.1.2,!=2.1.6,>=2.0.1 in /usr/local/lib/python3.8/dist-packages (from matplotlib->livelossplot) (3.0.9)\n",
            "Requirement already satisfied: kiwisolver>=1.0.1 in /usr/local/lib/python3.8/dist-packages (from matplotlib->livelossplot) (1.4.4)\n",
            "Requirement already satisfied: cycler>=0.10 in /usr/local/lib/python3.8/dist-packages (from matplotlib->livelossplot) (0.11.0)\n",
            "Requirement already satisfied: MarkupSafe>=0.23 in /usr/local/lib/python3.8/dist-packages (from Jinja2>=2.9->bokeh->livelossplot) (2.0.1)\n",
            "Requirement already satisfied: six>=1.5 in /usr/local/lib/python3.8/dist-packages (from python-dateutil>=2.1->bokeh->livelossplot) (1.15.0)\n",
            "Installing collected packages: livelossplot\n",
            "Successfully installed livelossplot-0.5.5\n"
          ]
        }
      ]
    },
    {
      "cell_type": "code",
      "source": [
        "#import all the necessary libraries\n",
        "import tensorflow as tf\n",
        "import matplotlib.pyplot as plt\n",
        "import numpy as np\n",
        "import pandas as pd\n",
        "import matplotlib.pyplot as plt\n",
        "%matplotlib inline\n",
        "from sklearn.model_selection import train_test_split\n",
        "from keras.utils.np_utils import to_categorical\n",
        "from keras.models import Sequential\n",
        "from keras.layers import Dense, Dropout, Flatten, Conv2D, MaxPool2D, BatchNormalizationV2\n",
        "from keras.optimizers import RMSprop\n",
        "from keras.preprocessing.image import ImageDataGenerator\n",
        "from keras.callbacks import ReduceLROnPlateau, CSVLogger\n",
        "from livelossplot import PlotLossesKeras\n",
        "from tensorflow.keras import utils\n",
        "from sklearn.model_selection import KFold\n",
        "from sklearn.metrics import confusion_matrix\n",
        "from tensorflow.keras import regularizers"
      ],
      "metadata": {
        "id": "LCFR42ECLOzb"
      },
      "execution_count": 4,
      "outputs": []
    },
    {
      "cell_type": "code",
      "execution_count": 5,
      "metadata": {
        "id": "tV9PO1GBl5_6"
      },
      "outputs": [],
      "source": [
        "# your code here\n",
        "#data =  tf.keras.datasets.fashion_mnist.load_data()\n",
        "data = pd.read_csv('/content/fashion-mnist_train.csv')\n",
        "test_data = pd.read_csv('/content/fashion-mnist_test.csv')"
      ]
    },
    {
      "cell_type": "code",
      "source": [
        "data.shape"
      ],
      "metadata": {
        "colab": {
          "base_uri": "https://localhost:8080/"
        },
        "id": "i9oHPLSmnRQf",
        "outputId": "db2f1def-c50a-4998-b2e8-c24102cc090e"
      },
      "execution_count": 6,
      "outputs": [
        {
          "output_type": "execute_result",
          "data": {
            "text/plain": [
              "(60000, 785)"
            ]
          },
          "metadata": {},
          "execution_count": 6
        }
      ]
    },
    {
      "cell_type": "code",
      "source": [
        "#separating input and output\n",
        "output = data[[\"label\"]]\n",
        "input_image = data.drop(['label'],axis=1)\n",
        "\n",
        "test_output = test_data[[\"label\"]]\n",
        "test_input_image = test_data.drop(['label'],axis=1)"
      ],
      "metadata": {
        "id": "q1Vw1pKulpxG"
      },
      "execution_count": 7,
      "outputs": []
    },
    {
      "cell_type": "code",
      "source": [
        "from keras.utils.np_utils import to_categorical\n",
        "# Reshape data\n",
        "input_image = input_image.values.reshape(-1, 28, 28, 1)\n",
        "test = test_input_image.values.reshape(-1, 28, 28, 1)\n",
        "\n",
        "# One-Hot encoding\n",
        "output = to_categorical(output, num_classes=10)"
      ],
      "metadata": {
        "id": "JOP0JgcXCNP4"
      },
      "execution_count": 8,
      "outputs": []
    },
    {
      "cell_type": "code",
      "source": [
        "#train-test spilit // cross validation\n",
        "from sklearn.model_selection import train_test_split\n",
        "\n",
        "X_train, X_test, y_train, y_test = train_test_split(input_image, output, test_size=0.3, random_state=42)"
      ],
      "metadata": {
        "id": "p4GQ0l6bnqYg"
      },
      "execution_count": 9,
      "outputs": []
    },
    {
      "cell_type": "markdown",
      "metadata": {
        "id": "2-xHphsvmG7F"
      },
      "source": [
        "Visualise a random sample image of the dataset. **(5 marks)**\n",
        "\n",
        "---\n",
        "\n"
      ]
    },
    {
      "cell_type": "code",
      "source": [
        "# your code here\n",
        "#printing a sample image\n",
        "plt.figure(figsize=(20,20))\n",
        "#showing 5 images\n",
        "for i in range(5):\n",
        "    plt.subplot(8,6, i+1)\n",
        "    plt.imshow(np.array(X_train[i, :]).reshape(28,28), cmap=plt.cm.binary)\n",
        "    plt.xlabel(y_train[i])"
      ],
      "metadata": {
        "colab": {
          "base_uri": "https://localhost:8080/",
          "height": 179
        },
        "id": "zKpw43M8mm_j",
        "outputId": "415f5916-fe69-4546-cb4f-31bcf1be5e26"
      },
      "execution_count": 13,
      "outputs": [
        {
          "output_type": "display_data",
          "data": {
            "text/plain": [
              "<Figure size 1440x1440 with 5 Axes>"
            ],
            "image/png": "[encoded data removed]"
          },
          "metadata": {
            "needs_background": "light"
          }
        }
      ]
    },
    {
      "cell_type": "code",
      "source": [
        "X_train.shape,y_train.shape,X_test.shape,y_test.shape"
      ],
      "metadata": {
        "colab": {
          "base_uri": "https://localhost:8080/"
        },
        "id": "6-9MiVaZIjfC",
        "outputId": "78fed6e3-8861-406b-ec8f-e4be92190510"
      },
      "execution_count": 14,
      "outputs": [
        {
          "output_type": "execute_result",
          "data": {
            "text/plain": [
              "((42000, 28, 28, 1), (42000, 10), (18000, 28, 28, 1), (18000, 10))"
            ]
          },
          "metadata": {},
          "execution_count": 14
        }
      ]
    },
    {
      "cell_type": "markdown",
      "metadata": {
        "id": "76c4z1KNBLSj"
      },
      "source": [
        "*your answer here*"
      ]
    },
    {
      "cell_type": "markdown",
      "metadata": {
        "id": "lMhGFcimoUwz"
      },
      "source": [
        "Define your CNN model. Specify the network and training parameters and comment them. **(10 marks)**\n",
        "\n",
        "---"
      ]
    },
    {
      "cell_type": "code",
      "execution_count": 66,
      "metadata": {
        "id": "urupEGOFooUz"
      },
      "outputs": [],
      "source": [
        "model = Sequential()\n",
        "\n",
        "drop = 0.6\n",
        "leaky = tf.keras.layers.LeakyReLU(alpha=0.001)\n",
        "relu = tf.keras.layers.ReLU()\n",
        "\n",
        "\n",
        "\n",
        "#input\n",
        "\n",
        "model = Sequential()\n",
        "\n",
        "model.add(Conv2D(filters=64, kernel_size=(5,5), padding='Same', activation='relu', input_shape=(28, 28, 1)))\n",
        "model.add(Conv2D(filters=64, kernel_size=(5,5), padding='Same', activation='relu'))\n",
        "model.add(MaxPool2D(pool_size=(3,3)))\n",
        "model.add(Dropout(drop))\n",
        "model.add(Dense(\n",
        "    units=32,\n",
        "    kernel_regularizer=regularizers.L1L2(l1=1e-5, l2=1e-4),\n",
        "    bias_regularizer=regularizers.L2(1e-4),\n",
        "    activity_regularizer=regularizers.L2(1e-5)\n",
        "))\n",
        "model.add(Dropout(0.6))\n",
        "\n",
        "model.add(Conv2D(filters=64, kernel_size=(3,3),padding='Same', activation='relu'))\n",
        "model.add(Conv2D(filters=64, kernel_size=(3,3),padding='Same', activation='relu'))\n",
        "model.add(MaxPool2D(pool_size=(2,2), strides=(2,2)))\n",
        "model.add(Dropout(drop))\n",
        "model.add(Dense(\n",
        "    units=32,\n",
        "    kernel_regularizer=regularizers.L1L2(l1=1e-5, l2=1e-4),\n",
        "    bias_regularizer=regularizers.L2(1e-4),\n",
        "    activity_regularizer=regularizers.L2(1e-5)\n",
        "))\n",
        "model.add(Dropout(0.6))\n",
        "\n",
        "# model.add(Flatten())\n",
        "# model.add(Dense(8192, activation='relu'))\n",
        "# model.add(Dropout(0.5))\n",
        "\n",
        "model.add(Flatten())\n",
        "model.add(Dense(8192, activation='relu'))\n",
        "model.add(Dropout(0.6))\n",
        "\n",
        "model.add(Dense(4096, activation='relu'))\n",
        "model.add(Dropout(0.6))\n",
        "\n",
        "model.add(Dense(10, activation=\"softmax\"))"
      ]
    },
    {
      "cell_type": "code",
      "source": [
        "precision = tf.keras.metrics.Precision()\n",
        "recall = tf.keras.metrics.Recall()\n",
        "model.compile(optimizer=RMSprop(lr=0.0001, rho=0.91, epsilon=1e-06, decay=0.00001),\n",
        "              loss=\"categorical_crossentropy\",\n",
        "              metrics=[\"accuracy\",precision,recall])\n",
        "\n",
        "\n",
        "model.summary()\n"
      ],
      "metadata": {
        "colab": {
          "base_uri": "https://localhost:8080/"
        },
        "id": "VeoIsiNlPUxZ",
        "outputId": "dd89807b-8cc9-41e4-abf9-c47e2b702d42"
      },
      "execution_count": 67,
      "outputs": [
        {
          "output_type": "stream",
          "name": "stdout",
          "text": [
            "Model: \"sequential_21\"\n",
            "_________________________________________________________________\n",
            " Layer (type)                Output Shape              Param #   \n",
            "=================================================================\n",
            " conv2d_30 (Conv2D)          (None, 28, 28, 64)        1664      \n",
            "                                                                 \n",
            " conv2d_31 (Conv2D)          (None, 28, 28, 64)        102464    \n",
            "                                                                 \n",
            " max_pooling2d_15 (MaxPoolin  (None, 9, 9, 64)         0         \n",
            " g2D)                                                            \n",
            "                                                                 \n",
            " dropout_33 (Dropout)        (None, 9, 9, 64)          0         \n",
            "                                                                 \n",
            " dense_38 (Dense)            (None, 9, 9, 32)          2080      \n",
            "                                                                 \n",
            " dropout_34 (Dropout)        (None, 9, 9, 32)          0         \n",
            "                                                                 \n",
            " conv2d_32 (Conv2D)          (None, 9, 9, 64)          18496     \n",
            "                                                                 \n",
            " conv2d_33 (Conv2D)          (None, 9, 9, 64)          36928     \n",
            "                                                                 \n",
            " max_pooling2d_16 (MaxPoolin  (None, 4, 4, 64)         0         \n",
            " g2D)                                                            \n",
            "                                                                 \n",
            " dropout_35 (Dropout)        (None, 4, 4, 64)          0         \n",
            "                                                                 \n",
            " dense_39 (Dense)            (None, 4, 4, 32)          2080      \n",
            "                                                                 \n",
            " dropout_36 (Dropout)        (None, 4, 4, 32)          0         \n",
            "                                                                 \n",
            " flatten_8 (Flatten)         (None, 512)               0         \n",
            "                                                                 \n",
            " dense_40 (Dense)            (None, 8192)              4202496   \n",
            "                                                                 \n",
            " dropout_37 (Dropout)        (None, 8192)              0         \n",
            "                                                                 \n",
            " dense_41 (Dense)            (None, 4096)              33558528  \n",
            "                                                                 \n",
            " dropout_38 (Dropout)        (None, 4096)              0         \n",
            "                                                                 \n",
            " dense_42 (Dense)            (None, 10)                40970     \n",
            "                                                                 \n",
            "=================================================================\n",
            "Total params: 37,965,706\n",
            "Trainable params: 37,965,706\n",
            "Non-trainable params: 0\n",
            "_________________________________________________________________\n"
          ]
        }
      ]
    },
    {
      "cell_type": "markdown",
      "metadata": {
        "id": "csCYqn-9pDuJ"
      },
      "source": [
        "Train the CNN model using k-fold cross-validation. **(10 marks)**\n",
        "\n",
        "---"
      ]
    },
    {
      "cell_type": "code",
      "source": [
        "   \n",
        "#Data augmentation\n",
        "# data_generator = ImageDataGenerator(rescale=1./255,\n",
        "#                                     rotation_range=45,\n",
        "#                                     zoom_range=0.1, \n",
        "#                                     width_shift_range=0.1,\n",
        "#                                     height_shift_range=0.1)\n",
        "data_generator = ImageDataGenerator(\n",
        "                                    rotation_range=90\n",
        "    )"
      ],
      "metadata": {
        "id": "NobKWnEPcQ2M"
      },
      "execution_count": 71,
      "outputs": []
    },
    {
      "cell_type": "code",
      "execution_count": null,
      "metadata": {
        "id": "xESPeCWnpJek"
      },
      "outputs": [],
      "source": [
        "from sklearn.utils import shuffle\n",
        "n_splits=3\n",
        "epochs=50\n",
        "batch_size=128\n",
        "\n",
        "#save the model history in a list after fitting so that it can be plotted later\n",
        "\n",
        "model_history = []\n",
        "\n",
        "\n",
        "#k-fold cross validation\n",
        "\n",
        "import numpy as np\n",
        "from sklearn.model_selection import cross_validate\n",
        "\n",
        "X = input_image\n",
        "y = output\n",
        "kf = KFold(n_splits=n_splits,shuffle=True,random_state=42)\n",
        "\n",
        "for training, testing in kf.split(X):\n",
        "    print(\"TRAIN:\", training[0:5], \"TEST:\", testing[0:5])\n",
        "    X_train, X_test = X[training], X[testing]\n",
        "    y_train, y_test = y[training], y[testing]\n",
        "\n",
        "    # normalisation of the pixel values from 0-255 range to 0-1 range \n",
        "    X_train = X_train.astype('float32')\n",
        "    X_test = X_test.astype('float32')\n",
        "    X_train /= 255\n",
        "    X_test /= 255\n",
        "\n",
        "    data_generator.fit(X_train)\n",
        "\n",
        "    model_history.append(model.fit(data_generator.flow(X_train,\n",
        "                                                  y_train,\n",
        "                                                  batch_size=batch_size),\n",
        "                              epochs=epochs,\n",
        "                              validation_data=(X_test, y_test),\n",
        "                              shuffle=True,\n",
        "                              verbose=1,\n",
        "                              steps_per_epoch=X_train.shape[0] // batch_size,\n",
        "                              # callbacks=[PlotLossesKeras(),\n",
        "                              #                     CSVLogger(\"training_logs.csv\",\n",
        "                              #                      append=False,\n",
        "                              #                      separator=\";\")\n",
        "                              #                     ]\n",
        "                              ))\n",
        "    print(\"=======\"*12, end=\"\\n\\n\\n\")\n"
      ]
    },
    {
      "cell_type": "markdown",
      "metadata": {
        "id": "FFMiFtDCpjMG"
      },
      "source": [
        "Evaluate your model in cross-validation. Calculate and print the loss and accuracy scores in each fold. Print the average cross-validation accuracy and loss your network achieved (in all folds). **(15 marks)**\n"
      ]
    },
    {
      "cell_type": "code",
      "source": [
        "#saving the model\n",
        "model.save('mnist-fashion-model-DL-A1.h5')"
      ],
      "metadata": {
        "id": "IcCuaWbzsLcq"
      },
      "execution_count": 91,
      "outputs": []
    },
    {
      "cell_type": "code",
      "source": [
        "#in this code block, I am taking tha average of each accuracy and loss values from every epoch in the training process\n",
        "#then taking the mean of all average value\n",
        "\n",
        "avg_train_accuracy = list()\n",
        "avg_training_loss = list()\n",
        "avg_test_accuracy = list()\n",
        "avg_testing_loss = list()\n",
        "\n",
        "for i in model_history:\n",
        "\n",
        "    avg_acc = sum(i.history['accuracy'])/len(i.history['accuracy'])\n",
        "    avg_train_accuracy.append(avg_acc)\n",
        "                                                            \n",
        "    avg_loss = sum(i.history['loss'])/len(i.history['loss'])\n",
        "    avg_training_loss.append(avg_loss)\n",
        "                                                            \n",
        "    val_acc = sum(i.history['val_accuracy'])/len(i.history['val_accuracy'])\n",
        "    avg_test_accuracy.append(val_acc)\n",
        "\n",
        "    val_acc = sum(i.history['val_loss'])/len(i.history['val_loss'])\n",
        "    avg_testing_loss.append(val_acc)\n",
        "\n",
        "print('Avereage Results: ')\n",
        "print('Training Accuracy')\n",
        "print(sum(avg_train_accuracy)/len(avg_train_accuracy))\n",
        "print('Training Loss')\n",
        "print(sum(avg_training_loss)/len(avg_training_loss))\n",
        "print('Validation Accuracy')\n",
        "print(sum(avg_test_accuracy)/len(avg_test_accuracy))\n",
        "print('Validation Loss')\n",
        "print(sum(avg_testing_loss)/len(avg_testing_loss))\n",
        "    "
      ],
      "metadata": {
        "colab": {
          "base_uri": "https://localhost:8080/"
        },
        "id": "OAAZMimgNoLK",
        "outputId": "f7792454-cb8a-4013-881b-21f3238427d0"
      },
      "execution_count": 78,
      "outputs": [
        {
          "output_type": "stream",
          "name": "stdout",
          "text": [
            "Avereage Results: \n",
            "Training Accuracy\n",
            "0.7333069163560868\n",
            "Training Loss\n",
            "0.7850876148541769\n",
            "Validation Accuracy\n",
            "0.7888316651185354\n",
            "Validation Loss\n",
            "0.5918814539909363\n"
          ]
        }
      ]
    },
    {
      "cell_type": "code",
      "execution_count": 76,
      "metadata": {
        "id": "WnCeV6qP6xmT",
        "colab": {
          "base_uri": "https://localhost:8080/"
        },
        "outputId": "736ec1c0-bb3e-4a1c-d4cc-3e9d4ce26a62"
      },
      "outputs": [
        {
          "output_type": "stream",
          "name": "stdout",
          "text": [
            "625/625 [==============================] - 2s 4ms/step - loss: 0.5063 - accuracy: 0.8162 - precision_10: 0.8730 - recall_10: 0.7649\n"
          ]
        },
        {
          "output_type": "execute_result",
          "data": {
            "text/plain": [
              "[0.5062956809997559,\n",
              " 0.8162000179290771,\n",
              " 0.8730312585830688,\n",
              " 0.7649499773979187]"
            ]
          },
          "metadata": {},
          "execution_count": 76
        }
      ],
      "source": [
        "model.evaluate(X_test, y_test)"
      ]
    },
    {
      "cell_type": "markdown",
      "metadata": {
        "id": "4GvX1moIqqm0"
      },
      "source": [
        "*your answer here*"
      ]
    },
    {
      "cell_type": "markdown",
      "metadata": {
        "id": "S48e3kq_qCCi"
      },
      "source": [
        "Plot the final results (accuracy/loss) on the test set in each fold. **(10 marks)**\n",
        "\n",
        "---"
      ]
    },
    {
      "cell_type": "code",
      "source": [
        "#zipping and saving the keras model\n",
        "#!zip -r /content/mnist-fashion-model-DL-A1.zip /content/mnist-fashion-model-DL-A1"
      ],
      "metadata": {
        "colab": {
          "base_uri": "https://localhost:8080/"
        },
        "id": "ddr8yAzBuDrp",
        "outputId": "f16b6c9e-438c-4b18-9354-383adb824aa5"
      },
      "execution_count": 94,
      "outputs": [
        {
          "output_type": "stream",
          "name": "stdout",
          "text": [
            "  adding: content/mnist-fashion-model-DL-A1/ (stored 0%)\n",
            "  adding: content/mnist-fashion-model-DL-A1/assets/ (stored 0%)\n",
            "  adding: content/mnist-fashion-model-DL-A1/keras_metadata.pb (deflated 93%)\n",
            "  adding: content/mnist-fashion-model-DL-A1/saved_model.pb (deflated 90%)\n",
            "  adding: content/mnist-fashion-model-DL-A1/variables/ (stored 0%)\n",
            "  adding: content/mnist-fashion-model-DL-A1/variables/variables.index (deflated 70%)\n",
            "  adding: content/mnist-fashion-model-DL-A1/variables/variables.data-00000-of-00001 (deflated 10%)\n"
          ]
        }
      ]
    },
    {
      "cell_type": "code",
      "execution_count": 88,
      "metadata": {
        "id": "DLLIrvy2psKZ",
        "colab": {
          "base_uri": "https://localhost:8080/",
          "height": 607
        },
        "outputId": "178274bd-3282-4f52-ab20-f653ec8bcc84"
      },
      "outputs": [
        {
          "output_type": "display_data",
          "data": {
            "text/plain": [
              "<Figure size 1440x720 with 1 Axes>"
            ],
            "image/png": "[encoded data removed]"
          },
          "metadata": {
            "needs_background": "light"
          }
        }
      ],
      "source": [
        "plt.figure(figsize=(20,10))\n",
        "plt.title('Accuracies vs Epochs')\n",
        "plt.plot(model_history[0].history['accuracy'], label='Training Fold 1')\n",
        "plt.plot(model_history[1].history['accuracy'], label='Training Fold 2')\n",
        "plt.plot(model_history[2].history['accuracy'], label='Training Fold 3')\n",
        "plt.legend()\n",
        "plt.show()"
      ]
    },
    {
      "cell_type": "code",
      "source": [
        "plt.figure(figsize=(20,10))\n",
        "plt.title('Loss vs Epochs')\n",
        "plt.plot(model_history[0].history['loss'], label='Training Fold 1')\n",
        "plt.plot(model_history[1].history['loss'], label='Training Fold 2')\n",
        "plt.plot(model_history[2].history['loss'], label='Training Fold 3')\n",
        "plt.legend()\n",
        "plt.show()"
      ],
      "metadata": {
        "colab": {
          "base_uri": "https://localhost:8080/",
          "height": 607
        },
        "id": "7gzZe49VuUsI",
        "outputId": "570dab57-6ee5-4565-d7ef-497b0207e086"
      },
      "execution_count": 87,
      "outputs": [
        {
          "output_type": "display_data",
          "data": {
            "text/plain": [
              "<Figure size 1440x720 with 1 Axes>"
            ],
            "image/png": "[encoded data removed]"
          },
          "metadata": {
            "needs_background": "light"
          }
        }
      ]
    },
    {
      "cell_type": "code",
      "source": [
        "plt.figure(figsize=(20,10))\n",
        "plt.title('Accuracy vs Loss')\n",
        "plt.plot(model_history[0].history['accuracy'], label='Training Fold 1, Accuracy')\n",
        "plt.plot(model_history[0].history['loss'], label='Training Fold 1, Loss')\n",
        "plt.plot(model_history[1].history['accuracy'], label='Training Fold 2, Accuracy')\n",
        "plt.plot(model_history[1].history['loss'], label='Training Fold 2, Loss')\n",
        "plt.plot(model_history[2].history['accuracy'], label='Training Fold 3, Accuracy')\n",
        "plt.plot(model_history[2].history['loss'], label='Training Fold 3, Loss')\n",
        "plt.legend()\n",
        "plt.show()"
      ],
      "metadata": {
        "colab": {
          "base_uri": "https://localhost:8080/",
          "height": 607
        },
        "id": "h3bRknr0ITR8",
        "outputId": "ac07a9b9-d1e5-4f63-8866-9fe5ec0d3b04"
      },
      "execution_count": 86,
      "outputs": [
        {
          "output_type": "display_data",
          "data": {
            "text/plain": [
              "<Figure size 1440x720 with 1 Axes>"
            ],
            "image/png": "[encoded data removed]"
          },
          "metadata": {
            "needs_background": "light"
          }
        }
      ]
    },
    {
      "cell_type": "markdown",
      "metadata": {
        "id": "ImI7busBrCie"
      },
      "source": [
        "Additional questions:\n",
        "\n",
        "\n",
        "*   Describe whether you found any differences in the network’s accuracy when applying regularisation compared to not applying it. If there were differences, which regularisation did you use? If no differences were found, what could be the reason? **(10 marks)**\n",
        "\n",
        "*your answer here*\n",
        "\n",
        "*   Write your conclusions about the results achieved with your model on the fashion MNIST dataset and ideas to improve these results/performance further. **(10 marks)**\n",
        "\n",
        "*your answer here*\n",
        "\n",
        "---\n",
        "\n"
      ]
    },
    {
      "cell_type": "markdown",
      "metadata": {
        "id": "EcSc_1JiqRA3"
      },
      "source": [
        "Additional remarks:\n",
        "\n",
        "*   Code outline appropriately commented. **(10 marks)**\n",
        "*   Code running without errors. **(10 marks)**\n",
        "\n",
        "---\n",
        "\n"
      ]
    }
  ],
  "metadata": {
    "colab": {
      "provenance": [],
      "machine_shape": "hm",
      "include_colab_link": true
    },
    "kernelspec": {
      "display_name": "base",
      "language": "python",
      "name": "python3"
    },
    "language_info": {
      "name": "python",
      "version": "3.9.13 (main, Aug 25 2022, 23:51:50) [MSC v.1916 64 bit (AMD64)]"
    },
    "vscode": {
      "interpreter": {
        "hash": "d3e7af04d29b7c7f09156ce72bf463dad5c8b45a218773abf1ffb50277174388"
      }
    },
    "accelerator": "GPU",
    "gpuClass": "premium"
  },
  "nbformat": 4,
  "nbformat_minor": 0
}