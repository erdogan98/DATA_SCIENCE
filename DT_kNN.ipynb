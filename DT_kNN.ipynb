{
  "nbformat": 4,
  "nbformat_minor": 0,
  "metadata": {
    "colab": {
      "name": "DT-kNN.ipynb",
      "provenance": [],
      "machine_shape": "hm",
      "mount_file_id": "10H0tmmjJ-_na_3Bb9ncsl2lE8B3MDWc3",
      "authorship_tag": "ABX9TyO1nYiE1bmiJp59EHuDwGBK",
      "include_colab_link": true
    },
    "kernelspec": {
      "name": "python3",
      "display_name": "Python 3"
    },
    "language_info": {
      "name": "python"
    },
    "accelerator": "GPU"
  },
  "cells": [
    {
      "cell_type": "markdown",
      "metadata": {
        "id": "view-in-github",
        "colab_type": "text"
      },
      "source": [
        "<a href=\"https://colab.research.google.com/github/erdogan98/DATA_SCIENCE/blob/main/DT_kNN.ipynb\" target=\"_parent\"><img src=\"https://colab.research.google.com/assets/colab-badge.svg\" alt=\"Open In Colab\"/></a>"
      ]
    },
    {
      "cell_type": "code",
      "execution_count": null,
      "metadata": {
        "id": "YpEvAr8Ol57j"
      },
      "outputs": [],
      "source": [
        "import re\n",
        "import numpy as np\n",
        "import scipy\n",
        "import itertools\n",
        "import matplotlib\n",
        "import matplotlib.pyplot as plt\n",
        "from scipy.spatial.distance import cdist\n",
        "from collections import Counter\n",
        "from random import choice\n",
        "import pandas as pd\n",
        "\n",
        "data = pd.read_csv('/content/drive/MyDrive/poster_presentation/dataset/train.csv')"
      ]
    },
    {
      "cell_type": "code",
      "source": [
        "! nvidia-smi -L"
      ],
      "metadata": {
        "colab": {
          "base_uri": "https://localhost:8080/"
        },
        "id": "d2auLPk9mEi_",
        "outputId": "6b04bb98-23c7-4474-cd56-7f9f2819b0af"
      },
      "execution_count": null,
      "outputs": [
        {
          "output_type": "stream",
          "name": "stdout",
          "text": [
            "GPU 0: Tesla P100-PCIE-16GB (UUID: GPU-855eeff3-2bb7-c217-f95e-99be4b7be740)\n"
          ]
        }
      ]
    },
    {
      "cell_type": "code",
      "source": [
        "data.shape"
      ],
      "metadata": {
        "colab": {
          "base_uri": "https://localhost:8080/"
        },
        "id": "xT2TR7GBmkMY",
        "outputId": "25903043-8bb0-439f-a33d-ab8e8e40a61b"
      },
      "execution_count": null,
      "outputs": [
        {
          "output_type": "execute_result",
          "data": {
            "text/plain": [
              "(159571, 8)"
            ]
          },
          "metadata": {},
          "execution_count": 6
        }
      ]
    },
    {
      "cell_type": "code",
      "source": [
        "#preprocess\n",
        "import os\n",
        "import tensorflow as tf\n",
        "from nltk.stem import WordNetLemmatizer\n",
        "import nltk\n",
        "nltk.download('stopwords')\n",
        "nltk.download('wordnet')\n",
        "from nltk.corpus import  stopwords\n",
        "import string\n",
        "import re\n",
        "    \n",
        "data['length'] = data['comment_text'].str.len()\n",
        "\n",
        "# Convert all messages to lower case\n",
        "data['comment_text'] = data['comment_text'].str.lower()\n",
        "\n",
        "\n",
        "# Replace email addresses with 'email'\n",
        "data['comment_text'] = data['comment_text'].str.replace(r'^.+@[^\\.].*\\.[a-z]{2,}$',\n",
        "                                 'emailaddress')\n",
        "\n",
        "# Replace URLs with 'webaddress'\n",
        "data['comment_text'] = data['comment_text'].str.replace(r'^http\\://[a-zA-Z0-9\\-\\.]+\\.[a-zA-Z]{2,3}(/\\S*)?$',\n",
        "                                  'webaddress')\n",
        "\n",
        "# Replace money symbols with 'moneysymb' (£ can by typed with ALT key + 156)\n",
        "data['comment_text'] = data['comment_text'].str.replace(r'£|\\$', 'dollars')\n",
        "\n",
        "    \n",
        "# Replace 10 digit phone numbers (formats include paranthesis, spaces, no spaces, dashes) with 'phonenumber'\n",
        "data['comment_text'] = data['comment_text'].str.replace(r'^\\(?[\\d]{3}\\)?[\\s-]?[\\d]{3}[\\s-]?[\\d]{4}$',\n",
        "                                  'phonenumber')\n",
        "\n",
        "\n",
        "# Replace numbers with 'numbr'\n",
        "data['comment_text'] = data['comment_text'].str.replace(r'\\d+(\\.\\d+)?', 'numbr')\n",
        "\n",
        "\n",
        "\n",
        "\n",
        "data['comment_text'] = data['comment_text'].apply(lambda x: ' '.join(\n",
        "    term for term in x.split() if term not in string.punctuation))\n",
        "\n",
        "\n",
        "stop_words = set(stopwords.words('english') + ['u', 'ü', 'ur', '4', '2', 'im', 'dont', 'doin', 'ure'])\n",
        "data['comment_text'] = data['comment_text'].apply(lambda x: ' '.join(\n",
        "    term for term in x.split() if term not in stop_words))\n",
        "\n",
        "\n",
        "lem=WordNetLemmatizer()\n",
        "data['comment_text'] = data['comment_text'].apply(lambda x: ' '.join(\n",
        " lem.lemmatize(t) for t in x.split()))\n"
      ],
      "metadata": {
        "colab": {
          "base_uri": "https://localhost:8080/"
        },
        "id": "C28A8NPFmuiO",
        "outputId": "1b8f45d7-2ec5-49cb-aa75-7eea402acd18"
      },
      "execution_count": null,
      "outputs": [
        {
          "output_type": "stream",
          "name": "stdout",
          "text": [
            "[nltk_data] Downloading package stopwords to /root/nltk_data...\n",
            "[nltk_data]   Unzipping corpora/stopwords.zip.\n",
            "[nltk_data] Downloading package wordnet to /root/nltk_data...\n",
            "[nltk_data]   Unzipping corpora/wordnet.zip.\n"
          ]
        },
        {
          "output_type": "stream",
          "name": "stderr",
          "text": [
            "/usr/local/lib/python3.7/dist-packages/ipykernel_launcher.py:20: FutureWarning: The default value of regex will change from True to False in a future version.\n",
            "/usr/local/lib/python3.7/dist-packages/ipykernel_launcher.py:24: FutureWarning: The default value of regex will change from True to False in a future version.\n",
            "/usr/local/lib/python3.7/dist-packages/ipykernel_launcher.py:27: FutureWarning: The default value of regex will change from True to False in a future version.\n",
            "/usr/local/lib/python3.7/dist-packages/ipykernel_launcher.py:32: FutureWarning: The default value of regex will change from True to False in a future version.\n",
            "/usr/local/lib/python3.7/dist-packages/ipykernel_launcher.py:36: FutureWarning: The default value of regex will change from True to False in a future version.\n"
          ]
        }
      ]
    },
    {
      "cell_type": "code",
      "source": [
        "#tokenization\n",
        "tokenized_text = data['comment_text'].apply(lambda x: x.split())\n",
        "\n",
        "tokenized_text.head()"
      ],
      "metadata": {
        "colab": {
          "base_uri": "https://localhost:8080/"
        },
        "id": "JqWE0Zmtpj4n",
        "outputId": "82811917-b9e7-49c1-e26f-a110e14ce52e"
      },
      "execution_count": null,
      "outputs": [
        {
          "output_type": "execute_result",
          "data": {
            "text/plain": [
              "0    [explanation, edits, made, username, hardcore,...\n",
              "1    [d'aww!, match, background, colour, i'm, seemi...\n",
              "2    [hey, man,, i'm, really, trying, edit, war., g...\n",
              "3    [can't, make, real, suggestion, improvement, w...\n",
              "4    [you,, sir,, hero., chance, remember, page, th...\n",
              "Name: comment_text, dtype: object"
            ]
          },
          "metadata": {},
          "execution_count": 8
        }
      ]
    },
    {
      "cell_type": "code",
      "source": [
        "data['clean_length'] = data.comment_text.str.len()\n",
        "data.head(3)"
      ],
      "metadata": {
        "colab": {
          "base_uri": "https://localhost:8080/",
          "height": 239
        },
        "id": "XE58-EAhm3Sy",
        "outputId": "f3e37222-819c-4233-fd20-7ef7e140f8b0"
      },
      "execution_count": null,
      "outputs": [
        {
          "output_type": "execute_result",
          "data": {
            "text/plain": [
              "                 id                                       comment_text  \\\n",
              "0  0000997932d777bf  explanation edits made username hardcore metal...   \n",
              "1  000103f0d9cfb60f  d'aww! match background colour i'm seemingly s...   \n",
              "2  000113f07ec002fd  hey man, i'm really trying edit war. guy const...   \n",
              "\n",
              "   malignant  highly_malignant  rude  threat  abuse  loathe  length  \\\n",
              "0          0                 0     0       0      0       0     264   \n",
              "1          0                 0     0       0      0       0     112   \n",
              "2          0                 0     0       0      0       0     233   \n",
              "\n",
              "   clean_length  \n",
              "0           180  \n",
              "1           111  \n",
              "2           149  "
            ],
            "text/html": [
              "\n",
              "  <div id=\"df-cc7af91d-609a-40c2-9afe-19a5a5bde6e0\">\n",
              "    <div class=\"colab-df-container\">\n",
              "      <div>\n",
              "<style scoped>\n",
              "    .dataframe tbody tr th:only-of-type {\n",
              "        vertical-align: middle;\n",
              "    }\n",
              "\n",
              "    .dataframe tbody tr th {\n",
              "        vertical-align: top;\n",
              "    }\n",
              "\n",
              "    .dataframe thead th {\n",
              "        text-align: right;\n",
              "    }\n",
              "</style>\n",
              "<table border=\"1\" class=\"dataframe\">\n",
              "  <thead>\n",
              "    <tr style=\"text-align: right;\">\n",
              "      <th></th>\n",
              "      <th>id</th>\n",
              "      <th>comment_text</th>\n",
              "      <th>malignant</th>\n",
              "      <th>highly_malignant</th>\n",
              "      <th>rude</th>\n",
              "      <th>threat</th>\n",
              "      <th>abuse</th>\n",
              "      <th>loathe</th>\n",
              "      <th>length</th>\n",
              "      <th>clean_length</th>\n",
              "    </tr>\n",
              "  </thead>\n",
              "  <tbody>\n",
              "    <tr>\n",
              "      <th>0</th>\n",
              "      <td>0000997932d777bf</td>\n",
              "      <td>explanation edits made username hardcore metal...</td>\n",
              "      <td>0</td>\n",
              "      <td>0</td>\n",
              "      <td>0</td>\n",
              "      <td>0</td>\n",
              "      <td>0</td>\n",
              "      <td>0</td>\n",
              "      <td>264</td>\n",
              "      <td>180</td>\n",
              "    </tr>\n",
              "    <tr>\n",
              "      <th>1</th>\n",
              "      <td>000103f0d9cfb60f</td>\n",
              "      <td>d'aww! match background colour i'm seemingly s...</td>\n",
              "      <td>0</td>\n",
              "      <td>0</td>\n",
              "      <td>0</td>\n",
              "      <td>0</td>\n",
              "      <td>0</td>\n",
              "      <td>0</td>\n",
              "      <td>112</td>\n",
              "      <td>111</td>\n",
              "    </tr>\n",
              "    <tr>\n",
              "      <th>2</th>\n",
              "      <td>000113f07ec002fd</td>\n",
              "      <td>hey man, i'm really trying edit war. guy const...</td>\n",
              "      <td>0</td>\n",
              "      <td>0</td>\n",
              "      <td>0</td>\n",
              "      <td>0</td>\n",
              "      <td>0</td>\n",
              "      <td>0</td>\n",
              "      <td>233</td>\n",
              "      <td>149</td>\n",
              "    </tr>\n",
              "  </tbody>\n",
              "</table>\n",
              "</div>\n",
              "      <button class=\"colab-df-convert\" onclick=\"convertToInteractive('df-cc7af91d-609a-40c2-9afe-19a5a5bde6e0')\"\n",
              "              title=\"Convert this dataframe to an interactive table.\"\n",
              "              style=\"display:none;\">\n",
              "        \n",
              "  <svg xmlns=\"http://www.w3.org/2000/svg\" height=\"24px\"viewBox=\"0 0 24 24\"\n",
              "       width=\"24px\">\n",
              "    <path d=\"M0 0h24v24H0V0z\" fill=\"none\"/>\n",
              "    <path d=\"M18.56 5.44l.94 2.06.94-2.06 2.06-.94-2.06-.94-.94-2.06-.94 2.06-2.06.94zm-11 1L8.5 8.5l.94-2.06 2.06-.94-2.06-.94L8.5 2.5l-.94 2.06-2.06.94zm10 10l.94 2.06.94-2.06 2.06-.94-2.06-.94-.94-2.06-.94 2.06-2.06.94z\"/><path d=\"M17.41 7.96l-1.37-1.37c-.4-.4-.92-.59-1.43-.59-.52 0-1.04.2-1.43.59L10.3 9.45l-7.72 7.72c-.78.78-.78 2.05 0 2.83L4 21.41c.39.39.9.59 1.41.59.51 0 1.02-.2 1.41-.59l7.78-7.78 2.81-2.81c.8-.78.8-2.07 0-2.86zM5.41 20L4 18.59l7.72-7.72 1.47 1.35L5.41 20z\"/>\n",
              "  </svg>\n",
              "      </button>\n",
              "      \n",
              "  <style>\n",
              "    .colab-df-container {\n",
              "      display:flex;\n",
              "      flex-wrap:wrap;\n",
              "      gap: 12px;\n",
              "    }\n",
              "\n",
              "    .colab-df-convert {\n",
              "      background-color: #E8F0FE;\n",
              "      border: none;\n",
              "      border-radius: 50%;\n",
              "      cursor: pointer;\n",
              "      display: none;\n",
              "      fill: #1967D2;\n",
              "      height: 32px;\n",
              "      padding: 0 0 0 0;\n",
              "      width: 32px;\n",
              "    }\n",
              "\n",
              "    .colab-df-convert:hover {\n",
              "      background-color: #E2EBFA;\n",
              "      box-shadow: 0px 1px 2px rgba(60, 64, 67, 0.3), 0px 1px 3px 1px rgba(60, 64, 67, 0.15);\n",
              "      fill: #174EA6;\n",
              "    }\n",
              "\n",
              "    [theme=dark] .colab-df-convert {\n",
              "      background-color: #3B4455;\n",
              "      fill: #D2E3FC;\n",
              "    }\n",
              "\n",
              "    [theme=dark] .colab-df-convert:hover {\n",
              "      background-color: #434B5C;\n",
              "      box-shadow: 0px 1px 3px 1px rgba(0, 0, 0, 0.15);\n",
              "      filter: drop-shadow(0px 1px 2px rgba(0, 0, 0, 0.3));\n",
              "      fill: #FFFFFF;\n",
              "    }\n",
              "  </style>\n",
              "\n",
              "      <script>\n",
              "        const buttonEl =\n",
              "          document.querySelector('#df-cc7af91d-609a-40c2-9afe-19a5a5bde6e0 button.colab-df-convert');\n",
              "        buttonEl.style.display =\n",
              "          google.colab.kernel.accessAllowed ? 'block' : 'none';\n",
              "\n",
              "        async function convertToInteractive(key) {\n",
              "          const element = document.querySelector('#df-cc7af91d-609a-40c2-9afe-19a5a5bde6e0');\n",
              "          const dataTable =\n",
              "            await google.colab.kernel.invokeFunction('convertToInteractive',\n",
              "                                                     [key], {});\n",
              "          if (!dataTable) return;\n",
              "\n",
              "          const docLinkHtml = 'Like what you see? Visit the ' +\n",
              "            '<a target=\"_blank\" href=https://colab.research.google.com/notebooks/data_table.ipynb>data table notebook</a>'\n",
              "            + ' to learn more about interactive tables.';\n",
              "          element.innerHTML = '';\n",
              "          dataTable['output_type'] = 'display_data';\n",
              "          await google.colab.output.renderOutput(dataTable, element);\n",
              "          const docLink = document.createElement('div');\n",
              "          docLink.innerHTML = docLinkHtml;\n",
              "          element.appendChild(docLink);\n",
              "        }\n",
              "      </script>\n",
              "    </div>\n",
              "  </div>\n",
              "  "
            ]
          },
          "metadata": {},
          "execution_count": 6
        }
      ]
    },
    {
      "cell_type": "code",
      "source": [
        "#splitting data into test&train\n",
        "train = data.sample(frac=0.8)\n",
        "test = data.sample(frac=0.2)"
      ],
      "metadata": {
        "id": "Pf0Nkypsm6Oq"
      },
      "execution_count": null,
      "outputs": []
    },
    {
      "cell_type": "code",
      "source": [
        ""
      ],
      "metadata": {
        "id": "Qj25IdENzVx5"
      },
      "execution_count": null,
      "outputs": []
    },
    {
      "cell_type": "code",
      "source": [
        "#Term Frequency-Inverse Document Frequency\n",
        "from sklearn.feature_extraction.text import TfidfVectorizer\n",
        "\n",
        "tfidf=TfidfVectorizer(max_df=0.90, min_df=2,max_features=10,stop_words='english')\n",
        "features=tfidf.fit_transform(train['comment_text'])\n",
        "\n",
        "x = features\n",
        "#test_tfidf_matrix=tfidf.fit_transform(test['comment_text'])\n",
        "\n",
        "#train_df_tfidf = pd.DataFrame(train_tfidf_matrix.todense())\n",
        "#test_df_tfidf = pd.DataFrame(test_tfidf_matrix.todense())"
      ],
      "metadata": {
        "id": "OC_txiZenKe1"
      },
      "execution_count": null,
      "outputs": []
    },
    {
      "cell_type": "code",
      "source": [
        "x.shape"
      ],
      "metadata": {
        "colab": {
          "base_uri": "https://localhost:8080/"
        },
        "id": "Cu8Nb95moq5n",
        "outputId": "7343d1aa-8c1b-4934-e24a-0f480178807d"
      },
      "execution_count": null,
      "outputs": [
        {
          "output_type": "execute_result",
          "data": {
            "text/plain": [
              "(127657, 10)"
            ]
          },
          "metadata": {},
          "execution_count": 11
        }
      ]
    },
    {
      "cell_type": "code",
      "source": [
        "malignant=train['malignant']\n",
        "highly_malignant=train['highly_malignant']\n",
        "rude = train['rude']\n",
        "threat=train['threat']\n",
        "abuse=train['abuse']\n",
        "loathe=train['loathe']"
      ],
      "metadata": {
        "id": "IvxV7RnZr54g"
      },
      "execution_count": null,
      "outputs": []
    },
    {
      "cell_type": "code",
      "source": [
        ""
      ],
      "metadata": {
        "colab": {
          "base_uri": "https://localhost:8080/"
        },
        "id": "oS5WAXoLs4PO",
        "outputId": "c43b0129-c003-4c25-a996-009e60b6378d"
      },
      "execution_count": null,
      "outputs": [
        {
          "output_type": "stream",
          "name": "stdout",
          "text": [
            "33836     0\n",
            "45680     0\n",
            "107138    0\n",
            "159189    0\n",
            "66773     0\n",
            "         ..\n",
            "19263     0\n",
            "78225     0\n",
            "146431    0\n",
            "47747     0\n",
            "135504    0\n",
            "Name: threat, Length: 127657, dtype: int64\n"
          ]
        }
      ]
    },
    {
      "cell_type": "code",
      "source": [
        "#splitting the data into train and validation\n",
        "\n",
        "from sklearn.model_selection import train_test_split\n",
        "\n",
        "#TF-IDF features\n",
        "\n",
        "x_train, x_valid, y_train, y_valid = train_test_split(x,malignant,test_size=0.3)\n",
        "#x_train, x_valid, y_train, y_valid = train_test_split(x,highly_malignant,test_size=0.3)\n",
        "#x_train, x_valid, y_train, y_valid = train_test_split(x,rude,test_size=0.3)\n",
        "#x_train, x_valid, y_train, y_valid = train_test_split(x,threat,test_size=0.3)\n",
        "#x_train, x_valid, y_train, y_valid = train_test_split(x,abuse,test_size=0.3)\n",
        "#x_train, x_valid, y_train, y_valid = train_test_split(x,loathe,test_size=0.3)"
      ],
      "metadata": {
        "id": "ZX7wNaEzqu1H"
      },
      "execution_count": null,
      "outputs": []
    },
    {
      "cell_type": "code",
      "source": [
        "# DecisionTreeClassifier\n",
        "from sklearn.tree import DecisionTreeClassifier\n",
        "dct = DecisionTreeClassifier(criterion='entropy')\n",
        "dct.fit(x_train,y_train)"
      ],
      "metadata": {
        "colab": {
          "base_uri": "https://localhost:8080/"
        },
        "id": "dh-9t8mLq0es",
        "outputId": "96e4676b-6229-44bd-f60b-046df4ffe512"
      },
      "execution_count": null,
      "outputs": [
        {
          "output_type": "execute_result",
          "data": {
            "text/plain": [
              "DecisionTreeClassifier(criterion='entropy')"
            ]
          },
          "metadata": {},
          "execution_count": 18
        }
      ]
    },
    {
      "cell_type": "code",
      "source": [
        "#KNeighborsClassifier\n",
        "from sklearn.neighbors import KNeighborsClassifier\n",
        "knn=KNeighborsClassifier(n_neighbors=5)\n",
        "knn.fit(x_train,y_train)"
      ],
      "metadata": {
        "colab": {
          "base_uri": "https://localhost:8080/"
        },
        "id": "azPDcDgGtfgm",
        "outputId": "4c2a01da-4a4b-4e5a-f647-a5d92dbed0d2"
      },
      "execution_count": null,
      "outputs": [
        {
          "output_type": "execute_result",
          "data": {
            "text/plain": [
              "KNeighborsClassifier()"
            ]
          },
          "metadata": {},
          "execution_count": 19
        }
      ]
    },
    {
      "cell_type": "code",
      "source": [
        "#predicting the probabilities\n",
        "dct_prediction = dct.predict(x_valid)\n",
        "knn_prediction = knn.predict(x_valid)"
      ],
      "metadata": {
        "id": "dNkEWTzBt5g1"
      },
      "execution_count": null,
      "outputs": []
    },
    {
      "cell_type": "code",
      "source": [
        "from sklearn.metrics import accuracy_score, confusion_matrix, classification_report,roc_curve,roc_auc_score,auc\n",
        "\n",
        "print('Test accuracy of malignant with decision tree is {}'.format(accuracy_score(y_valid,dct_prediction)))\n",
        "print(confusion_matrix(y_valid,dct_prediction))\n",
        "print(classification_report(y_valid,dct_prediction))"
      ],
      "metadata": {
        "colab": {
          "base_uri": "https://localhost:8080/"
        },
        "id": "5XxRp5jSuHdo",
        "outputId": "d71687f0-ccbe-4a20-d216-24f4cdd9e66c"
      },
      "execution_count": null,
      "outputs": [
        {
          "output_type": "stream",
          "name": "stdout",
          "text": [
            "Test accuracy of malignant with decision tree is 0.8992114470729542\n",
            "[[34407   178]\n",
            " [ 3682    31]]\n",
            "              precision    recall  f1-score   support\n",
            "\n",
            "           0       0.90      0.99      0.95     34585\n",
            "           1       0.15      0.01      0.02      3713\n",
            "\n",
            "    accuracy                           0.90     38298\n",
            "   macro avg       0.53      0.50      0.48     38298\n",
            "weighted avg       0.83      0.90      0.86     38298\n",
            "\n"
          ]
        }
      ]
    },
    {
      "cell_type": "code",
      "source": [
        "print('Test accuracy of malignant with kNN is {}'.format(accuracy_score(y_valid,knn_prediction)))\n",
        "print(confusion_matrix(y_valid,knn_prediction))\n",
        "print(classification_report(y_valid,knn_prediction))"
      ],
      "metadata": {
        "colab": {
          "base_uri": "https://localhost:8080/"
        },
        "id": "gaHwwkKDlj5x",
        "outputId": "c97a073a-0908-496b-b2b9-9b8c1915eaec"
      },
      "execution_count": null,
      "outputs": [
        {
          "output_type": "stream",
          "name": "stdout",
          "text": [
            "Test accuracy of malignant with kNN is 0.9020314376729855\n",
            "[[34532    53]\n",
            " [ 3699    14]]\n",
            "              precision    recall  f1-score   support\n",
            "\n",
            "           0       0.90      1.00      0.95     34585\n",
            "           1       0.21      0.00      0.01      3713\n",
            "\n",
            "    accuracy                           0.90     38298\n",
            "   macro avg       0.56      0.50      0.48     38298\n",
            "weighted avg       0.84      0.90      0.86     38298\n",
            "\n"
          ]
        }
      ]
    },
    {
      "cell_type": "code",
      "source": [
        "x_train, x_valid, y_train, y_valid = train_test_split(x,rude,test_size=0.3)\n",
        "# DecisionTreeClassifier\n",
        "from sklearn.tree import DecisionTreeClassifier\n",
        "dct = DecisionTreeClassifier(criterion='entropy')\n",
        "dct.fit(x_train,y_train)\n",
        "#KNeighborsClassifier\n",
        "from sklearn.neighbors import KNeighborsClassifier\n",
        "knn=KNeighborsClassifier(n_neighbors=5)\n",
        "knn.fit(x_train,y_train)\n",
        "#predicting the probabilities\n",
        "dct_prediction = dct.predict(x_valid)\n",
        "knn_prediction = knn.predict(x_valid)\n",
        "\n",
        "from sklearn.metrics import accuracy_score, confusion_matrix, classification_report,roc_curve,roc_auc_score,auc\n",
        "\n",
        "print('Test accuracy of highly_malignant with decision tree is {}'.format(accuracy_score(y_valid,dct_prediction)))\n",
        "print(confusion_matrix(y_valid,dct_prediction))\n",
        "print(classification_report(y_valid,dct_prediction))"
      ],
      "metadata": {
        "colab": {
          "base_uri": "https://localhost:8080/"
        },
        "id": "PIPAG-Msl1J_",
        "outputId": "aa0cc41b-2abb-4819-e191-0ece639a3a1b"
      },
      "execution_count": null,
      "outputs": [
        {
          "output_type": "stream",
          "name": "stdout",
          "text": [
            "Test accuracy of highly_malignant with decision tree is 0.9898689226591467\n",
            "[[37910     8]\n",
            " [  380     0]]\n",
            "              precision    recall  f1-score   support\n",
            "\n",
            "           0       0.99      1.00      0.99     37918\n",
            "           1       0.00      0.00      0.00       380\n",
            "\n",
            "    accuracy                           0.99     38298\n",
            "   macro avg       0.50      0.50      0.50     38298\n",
            "weighted avg       0.98      0.99      0.99     38298\n",
            "\n"
          ]
        }
      ]
    },
    {
      "cell_type": "code",
      "source": [
        "print('Test accuracy of highly_malignant with kNN is {}'.format(accuracy_score(y_valid,knn_prediction)))\n",
        "print(confusion_matrix(y_valid,knn_prediction))\n",
        "print(classification_report(y_valid,knn_prediction))"
      ],
      "metadata": {
        "colab": {
          "base_uri": "https://localhost:8080/"
        },
        "id": "f9Y21sJnmiln",
        "outputId": "ec169f3f-fdd0-48d3-ed44-9d3f721621a2"
      },
      "execution_count": null,
      "outputs": [
        {
          "output_type": "stream",
          "name": "stdout",
          "text": [
            "Test accuracy of highly_malignant with kNN is 0.9900778108517416\n",
            "[[37918     0]\n",
            " [  380     0]]\n",
            "              precision    recall  f1-score   support\n",
            "\n",
            "           0       0.99      1.00      1.00     37918\n",
            "           1       0.00      0.00      0.00       380\n",
            "\n",
            "    accuracy                           0.99     38298\n",
            "   macro avg       0.50      0.50      0.50     38298\n",
            "weighted avg       0.98      0.99      0.99     38298\n",
            "\n"
          ]
        },
        {
          "output_type": "stream",
          "name": "stderr",
          "text": [
            "/usr/local/lib/python3.7/dist-packages/sklearn/metrics/_classification.py:1318: UndefinedMetricWarning: Precision and F-score are ill-defined and being set to 0.0 in labels with no predicted samples. Use `zero_division` parameter to control this behavior.\n",
            "  _warn_prf(average, modifier, msg_start, len(result))\n",
            "/usr/local/lib/python3.7/dist-packages/sklearn/metrics/_classification.py:1318: UndefinedMetricWarning: Precision and F-score are ill-defined and being set to 0.0 in labels with no predicted samples. Use `zero_division` parameter to control this behavior.\n",
            "  _warn_prf(average, modifier, msg_start, len(result))\n",
            "/usr/local/lib/python3.7/dist-packages/sklearn/metrics/_classification.py:1318: UndefinedMetricWarning: Precision and F-score are ill-defined and being set to 0.0 in labels with no predicted samples. Use `zero_division` parameter to control this behavior.\n",
            "  _warn_prf(average, modifier, msg_start, len(result))\n"
          ]
        }
      ]
    },
    {
      "cell_type": "code",
      "source": [
        "x_train, x_valid, y_train, y_valid = train_test_split(x,rude,test_size=0.3)\n",
        "# DecisionTreeClassifier\n",
        "from sklearn.tree import DecisionTreeClassifier\n",
        "dct = DecisionTreeClassifier(criterion='entropy')\n",
        "dct.fit(x_train,y_train)\n",
        "#KNeighborsClassifier\n",
        "from sklearn.neighbors import KNeighborsClassifier\n",
        "knn=KNeighborsClassifier(n_neighbors=5)\n",
        "knn.fit(x_train,y_train)\n",
        "#predicting the probabilities\n",
        "dct_prediction = dct.predict(x_valid)\n",
        "knn_prediction = knn.predict(x_valid)\n",
        "\n",
        "from sklearn.metrics import accuracy_score, confusion_matrix, classification_report,roc_curve,roc_auc_score,auc\n",
        "\n",
        "print('Test accuracy of rude with decision tree is {}'.format(accuracy_score(y_valid,dct_prediction)))\n",
        "print(confusion_matrix(y_valid,dct_prediction))\n",
        "print(classification_report(y_valid,dct_prediction))"
      ],
      "metadata": {
        "colab": {
          "base_uri": "https://localhost:8080/"
        },
        "id": "khUyuDS_mqE5",
        "outputId": "0cd47746-66dd-4a14-8380-d01fc57dec57"
      },
      "execution_count": null,
      "outputs": [
        {
          "output_type": "stream",
          "name": "stdout",
          "text": [
            "Test accuracy of rude with decision tree is 0.9462896234790329\n",
            "[[36235    68]\n",
            " [ 1989     6]]\n",
            "              precision    recall  f1-score   support\n",
            "\n",
            "           0       0.95      1.00      0.97     36303\n",
            "           1       0.08      0.00      0.01      1995\n",
            "\n",
            "    accuracy                           0.95     38298\n",
            "   macro avg       0.51      0.50      0.49     38298\n",
            "weighted avg       0.90      0.95      0.92     38298\n",
            "\n"
          ]
        }
      ]
    },
    {
      "cell_type": "code",
      "source": [
        "print('Test accuracy of rude with kNN is {}'.format(accuracy_score(y_valid,knn_prediction)))\n",
        "print(confusion_matrix(y_valid,knn_prediction))\n",
        "print(classification_report(y_valid,knn_prediction))"
      ],
      "metadata": {
        "colab": {
          "base_uri": "https://localhost:8080/"
        },
        "id": "pQ_nPR_tnP73",
        "outputId": "d516c189-2687-4a01-f10f-d3fe8bebef18"
      },
      "execution_count": null,
      "outputs": [
        {
          "output_type": "stream",
          "name": "stdout",
          "text": [
            "Test accuracy of rude with kNN is 0.9477779518512716\n",
            "[[36296     7]\n",
            " [ 1993     2]]\n",
            "              precision    recall  f1-score   support\n",
            "\n",
            "           0       0.95      1.00      0.97     36303\n",
            "           1       0.22      0.00      0.00      1995\n",
            "\n",
            "    accuracy                           0.95     38298\n",
            "   macro avg       0.59      0.50      0.49     38298\n",
            "weighted avg       0.91      0.95      0.92     38298\n",
            "\n"
          ]
        }
      ]
    },
    {
      "cell_type": "code",
      "source": [
        "x_train, x_valid, y_train, y_valid = train_test_split(x,threat,test_size=0.3)\n",
        "# DecisionTreeClassifier\n",
        "from sklearn.tree import DecisionTreeClassifier\n",
        "dct = DecisionTreeClassifier(criterion='entropy')\n",
        "dct.fit(x_train,y_train)\n",
        "#KNeighborsClassifier\n",
        "from sklearn.neighbors import KNeighborsClassifier\n",
        "knn=KNeighborsClassifier(n_neighbors=5)\n",
        "knn.fit(x_train,y_train)\n",
        "#predicting the probabilities\n",
        "dct_prediction = dct.predict(x_valid)\n",
        "knn_prediction = knn.predict(x_valid)\n",
        "\n",
        "from sklearn.metrics import accuracy_score, confusion_matrix, classification_report,roc_curve,roc_auc_score,auc\n",
        "\n",
        "print('Test accuracy of threat with decision tree is {}'.format(accuracy_score(y_valid,dct_prediction)))\n",
        "print(confusion_matrix(y_valid,dct_prediction))\n",
        "print(classification_report(y_valid,dct_prediction))"
      ],
      "metadata": {
        "colab": {
          "base_uri": "https://localhost:8080/"
        },
        "id": "HVBg-foSnfw5",
        "outputId": "9843f5de-e122-4c98-b143-ee5867c242eb"
      },
      "execution_count": null,
      "outputs": [
        {
          "output_type": "stream",
          "name": "stdout",
          "text": [
            "Test accuracy of threat with decision tree is 0.99712778735182\n",
            "[[38188     0]\n",
            " [  110     0]]\n",
            "              precision    recall  f1-score   support\n",
            "\n",
            "           0       1.00      1.00      1.00     38188\n",
            "           1       0.00      0.00      0.00       110\n",
            "\n",
            "    accuracy                           1.00     38298\n",
            "   macro avg       0.50      0.50      0.50     38298\n",
            "weighted avg       0.99      1.00      1.00     38298\n",
            "\n"
          ]
        },
        {
          "output_type": "stream",
          "name": "stderr",
          "text": [
            "/usr/local/lib/python3.7/dist-packages/sklearn/metrics/_classification.py:1318: UndefinedMetricWarning: Precision and F-score are ill-defined and being set to 0.0 in labels with no predicted samples. Use `zero_division` parameter to control this behavior.\n",
            "  _warn_prf(average, modifier, msg_start, len(result))\n",
            "/usr/local/lib/python3.7/dist-packages/sklearn/metrics/_classification.py:1318: UndefinedMetricWarning: Precision and F-score are ill-defined and being set to 0.0 in labels with no predicted samples. Use `zero_division` parameter to control this behavior.\n",
            "  _warn_prf(average, modifier, msg_start, len(result))\n",
            "/usr/local/lib/python3.7/dist-packages/sklearn/metrics/_classification.py:1318: UndefinedMetricWarning: Precision and F-score are ill-defined and being set to 0.0 in labels with no predicted samples. Use `zero_division` parameter to control this behavior.\n",
            "  _warn_prf(average, modifier, msg_start, len(result))\n"
          ]
        }
      ]
    },
    {
      "cell_type": "code",
      "source": [
        "print('Test accuracy of threat with kNN is {}'.format(accuracy_score(y_valid,knn_prediction)))\n",
        "print(confusion_matrix(y_valid,knn_prediction))\n",
        "print(classification_report(y_valid,knn_prediction))"
      ],
      "metadata": {
        "colab": {
          "base_uri": "https://localhost:8080/"
        },
        "id": "N_Ktbm5VnhYX",
        "outputId": "33639252-786e-46e2-b0da-3775e16430b5"
      },
      "execution_count": null,
      "outputs": [
        {
          "output_type": "stream",
          "name": "stdout",
          "text": [
            "Test accuracy of threat with kNN is 0.99712778735182\n",
            "[[38188     0]\n",
            " [  110     0]]\n",
            "              precision    recall  f1-score   support\n",
            "\n",
            "           0       1.00      1.00      1.00     38188\n",
            "           1       0.00      0.00      0.00       110\n",
            "\n",
            "    accuracy                           1.00     38298\n",
            "   macro avg       0.50      0.50      0.50     38298\n",
            "weighted avg       0.99      1.00      1.00     38298\n",
            "\n"
          ]
        },
        {
          "output_type": "stream",
          "name": "stderr",
          "text": [
            "/usr/local/lib/python3.7/dist-packages/sklearn/metrics/_classification.py:1318: UndefinedMetricWarning: Precision and F-score are ill-defined and being set to 0.0 in labels with no predicted samples. Use `zero_division` parameter to control this behavior.\n",
            "  _warn_prf(average, modifier, msg_start, len(result))\n",
            "/usr/local/lib/python3.7/dist-packages/sklearn/metrics/_classification.py:1318: UndefinedMetricWarning: Precision and F-score are ill-defined and being set to 0.0 in labels with no predicted samples. Use `zero_division` parameter to control this behavior.\n",
            "  _warn_prf(average, modifier, msg_start, len(result))\n",
            "/usr/local/lib/python3.7/dist-packages/sklearn/metrics/_classification.py:1318: UndefinedMetricWarning: Precision and F-score are ill-defined and being set to 0.0 in labels with no predicted samples. Use `zero_division` parameter to control this behavior.\n",
            "  _warn_prf(average, modifier, msg_start, len(result))\n"
          ]
        }
      ]
    },
    {
      "cell_type": "code",
      "source": [
        "x_train, x_valid, y_train, y_valid = train_test_split(x,abuse,test_size=0.3)\n",
        "# DecisionTreeClassifier\n",
        "from sklearn.tree import DecisionTreeClassifier\n",
        "dct = DecisionTreeClassifier(criterion='entropy')\n",
        "dct.fit(x_train,y_train)\n",
        "#KNeighborsClassifier\n",
        "from sklearn.neighbors import KNeighborsClassifier\n",
        "knn=KNeighborsClassifier(n_neighbors=5)\n",
        "knn.fit(x_train,y_train)\n",
        "#predicting the probabilities\n",
        "dct_prediction = dct.predict(x_valid)\n",
        "knn_prediction = knn.predict(x_valid)\n",
        "\n",
        "from sklearn.metrics import accuracy_score, confusion_matrix, classification_report,roc_curve,roc_auc_score,auc\n",
        "\n",
        "print('Test accuracy of abuse with decision tree is {}'.format(accuracy_score(y_valid,dct_prediction)))\n",
        "print(confusion_matrix(y_valid,dct_prediction))\n",
        "print(classification_report(y_valid,dct_prediction))\n",
        "\n",
        "print('Test accuracy of abuse with kNN is {}'.format(accuracy_score(y_valid,knn_prediction)))\n",
        "print(confusion_matrix(y_valid,knn_prediction))\n",
        "print(classification_report(y_valid,knn_prediction))"
      ],
      "metadata": {
        "colab": {
          "base_uri": "https://localhost:8080/"
        },
        "id": "mxDF8cpdnwbt",
        "outputId": "c46dff49-6245-48e6-91a9-42cd503bae4a"
      },
      "execution_count": null,
      "outputs": [
        {
          "output_type": "stream",
          "name": "stdout",
          "text": [
            "Test accuracy of abuse with decision tree is 0.9498668337772207\n",
            "[[36373    63]\n",
            " [ 1857     5]]\n",
            "              precision    recall  f1-score   support\n",
            "\n",
            "           0       0.95      1.00      0.97     36436\n",
            "           1       0.07      0.00      0.01      1862\n",
            "\n",
            "    accuracy                           0.95     38298\n",
            "   macro avg       0.51      0.50      0.49     38298\n",
            "weighted avg       0.91      0.95      0.93     38298\n",
            "\n",
            "Test accuracy of abuse with kNN is 0.9512768290772364\n",
            "[[36432     4]\n",
            " [ 1862     0]]\n",
            "              precision    recall  f1-score   support\n",
            "\n",
            "           0       0.95      1.00      0.98     36436\n",
            "           1       0.00      0.00      0.00      1862\n",
            "\n",
            "    accuracy                           0.95     38298\n",
            "   macro avg       0.48      0.50      0.49     38298\n",
            "weighted avg       0.91      0.95      0.93     38298\n",
            "\n"
          ]
        }
      ]
    },
    {
      "cell_type": "code",
      "source": [
        "x_train, x_valid, y_train, y_valid = train_test_split(x,loathe,test_size=0.3)\n",
        "# DecisionTreeClassifier\n",
        "from sklearn.tree import DecisionTreeClassifier\n",
        "dct = DecisionTreeClassifier(criterion='entropy')\n",
        "dct.fit(x_train,y_train)\n",
        "#KNeighborsClassifier\n",
        "from sklearn.neighbors import KNeighborsClassifier\n",
        "knn=KNeighborsClassifier(n_neighbors=5)\n",
        "knn.fit(x_train,y_train)\n",
        "#predicting the probabilities\n",
        "dct_prediction = dct.predict(x_valid)\n",
        "knn_prediction = knn.predict(x_valid)\n",
        "\n",
        "from sklearn.metrics import accuracy_score, confusion_matrix, classification_report,roc_curve,roc_auc_score,auc\n",
        "\n",
        "print('Test accuracy of loathe with decision tree is {}'.format(accuracy_score(y_valid,dct_prediction)))\n",
        "print(confusion_matrix(y_valid,dct_prediction))\n",
        "print(classification_report(y_valid,dct_prediction))\n",
        "\n",
        "print('Test accuracy of loathe with kNN is {}'.format(accuracy_score(y_valid,knn_prediction)))\n",
        "print(confusion_matrix(y_valid,knn_prediction))\n",
        "print(classification_report(y_valid,knn_prediction))"
      ],
      "metadata": {
        "colab": {
          "base_uri": "https://localhost:8080/"
        },
        "id": "xusPqVtrn3BW",
        "outputId": "b6f9bc2e-bac7-430a-dc5e-fb3a6eff526b"
      },
      "execution_count": null,
      "outputs": [
        {
          "output_type": "stream",
          "name": "stdout",
          "text": [
            "Test accuracy of loathe with decision tree is 0.9918794715128727\n",
            "[[37986    12]\n",
            " [  299     1]]\n",
            "              precision    recall  f1-score   support\n",
            "\n",
            "           0       0.99      1.00      1.00     37998\n",
            "           1       0.08      0.00      0.01       300\n",
            "\n",
            "    accuracy                           0.99     38298\n",
            "   macro avg       0.53      0.50      0.50     38298\n",
            "weighted avg       0.99      0.99      0.99     38298\n",
            "\n",
            "Test accuracy of loathe with kNN is 0.9921666927776908\n",
            "[[37998     0]\n",
            " [  300     0]]\n",
            "              precision    recall  f1-score   support\n",
            "\n",
            "           0       0.99      1.00      1.00     37998\n",
            "           1       0.00      0.00      0.00       300\n",
            "\n",
            "    accuracy                           0.99     38298\n",
            "   macro avg       0.50      0.50      0.50     38298\n",
            "weighted avg       0.98      0.99      0.99     38298\n",
            "\n"
          ]
        },
        {
          "output_type": "stream",
          "name": "stderr",
          "text": [
            "/usr/local/lib/python3.7/dist-packages/sklearn/metrics/_classification.py:1318: UndefinedMetricWarning: Precision and F-score are ill-defined and being set to 0.0 in labels with no predicted samples. Use `zero_division` parameter to control this behavior.\n",
            "  _warn_prf(average, modifier, msg_start, len(result))\n",
            "/usr/local/lib/python3.7/dist-packages/sklearn/metrics/_classification.py:1318: UndefinedMetricWarning: Precision and F-score are ill-defined and being set to 0.0 in labels with no predicted samples. Use `zero_division` parameter to control this behavior.\n",
            "  _warn_prf(average, modifier, msg_start, len(result))\n",
            "/usr/local/lib/python3.7/dist-packages/sklearn/metrics/_classification.py:1318: UndefinedMetricWarning: Precision and F-score are ill-defined and being set to 0.0 in labels with no predicted samples. Use `zero_division` parameter to control this behavior.\n",
            "  _warn_prf(average, modifier, msg_start, len(result))\n"
          ]
        }
      ]
    },
    {
      "cell_type": "code",
      "source": [
        ""
      ],
      "metadata": {
        "id": "uVcqM3zAoDVs"
      },
      "execution_count": null,
      "outputs": []
    }
  ]
}