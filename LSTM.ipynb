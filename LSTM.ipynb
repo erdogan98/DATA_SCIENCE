{
  "cells": [
    {
      "cell_type": "markdown",
      "metadata": {
        "id": "view-in-github",
        "colab_type": "text"
      },
      "source": [
        "<a href=\"https://colab.research.google.com/github/erdogan98/DATA_SCIENCE/blob/main/LSTM.ipynb\" target=\"_parent\"><img src=\"https://colab.research.google.com/assets/colab-badge.svg\" alt=\"Open In Colab\"/></a>"
      ]
    },
    {
      "cell_type": "code",
      "execution_count": 1,
      "metadata": {
        "id": "yv3jaWFQu9qK"
      },
      "outputs": [],
      "source": [
        "import re\n",
        "import numpy as np\n",
        "import scipy\n",
        "import itertools\n",
        "import matplotlib\n",
        "import matplotlib.pyplot as plt\n",
        "from scipy.spatial.distance import cdist\n",
        "from collections import Counter\n",
        "from random import choice\n",
        "import pandas as pd\n",
        "\n",
        "data = pd.read_csv('/content/drive/MyDrive/poster_presentation/dataset/train.csv')"
      ]
    },
    {
      "cell_type": "code",
      "source": [
        "!nvidia-smi -L"
      ],
      "metadata": {
        "id": "6h_06w2X5Qtu",
        "colab": {
          "base_uri": "https://localhost:8080/"
        },
        "outputId": "08f917ac-aa6c-4494-ae74-c77881049ccb"
      },
      "execution_count": 2,
      "outputs": [
        {
          "output_type": "stream",
          "name": "stdout",
          "text": [
            "GPU 0: Tesla P100-PCIE-16GB (UUID: GPU-19468681-416a-bf0b-8c08-645f403de920)\n"
          ]
        }
      ]
    },
    {
      "cell_type": "code",
      "source": [
        "#train_test split\n",
        "data.shape\n",
        "\n",
        "data = data.iloc[:150000]\n",
        "\n",
        "data.shape"
      ],
      "metadata": {
        "colab": {
          "base_uri": "https://localhost:8080/"
        },
        "id": "Nr00kzv25pQm",
        "outputId": "998bc790-49e5-48fd-e65f-0cde66a4ebbd"
      },
      "execution_count": 5,
      "outputs": [
        {
          "output_type": "execute_result",
          "data": {
            "text/plain": [
              "(150000, 8)"
            ]
          },
          "metadata": {},
          "execution_count": 5
        }
      ]
    },
    {
      "cell_type": "code",
      "source": [
        "#preprocess\n",
        "import os\n",
        "import tensorflow as tf\n",
        "from nltk.stem import WordNetLemmatizer\n",
        "import nltk\n",
        "nltk.download('stopwords')\n",
        "nltk.download('wordnet')\n",
        "from nltk.corpus import  stopwords\n",
        "import string\n",
        "import re\n",
        "    \n",
        "data['length'] = data['comment_text'].str.len()\n",
        "\n",
        "# Convert all messages to lower case\n",
        "data['comment_text'] = data['comment_text'].str.lower()\n",
        "\n",
        "\n",
        "# Replace email addresses with 'email'\n",
        "data['comment_text'] = data['comment_text'].str.replace(r'^.+@[^\\.].*\\.[a-z]{2,}$',\n",
        "                                 'emailaddress')\n",
        "\n",
        "# Replace URLs with 'webaddress'\n",
        "data['comment_text'] = data['comment_text'].str.replace(r'^http\\://[a-zA-Z0-9\\-\\.]+\\.[a-zA-Z]{2,3}(/\\S*)?$',\n",
        "                                  'webaddress')\n",
        "\n",
        "# Replace money symbols with 'moneysymb' (£ can by typed with ALT key + 156)\n",
        "data['comment_text'] = data['comment_text'].str.replace(r'£|\\$', 'dollars')\n",
        "\n",
        "    \n",
        "# Replace 10 digit phone numbers (formats include paranthesis, spaces, no spaces, dashes) with 'phonenumber'\n",
        "data['comment_text'] = data['comment_text'].str.replace(r'^\\(?[\\d]{3}\\)?[\\s-]?[\\d]{3}[\\s-]?[\\d]{4}$',\n",
        "                                  'phonenumber')\n",
        "\n",
        "\n",
        "# Replace numbers with 'numbr'\n",
        "data['comment_text'] = data['comment_text'].str.replace(r'\\d+(\\.\\d+)?', 'numbr')\n",
        "\n",
        "\n",
        "\n",
        "\n",
        "data['comment_text'] = data['comment_text'].apply(lambda x: ' '.join(\n",
        "    term for term in x.split() if term not in string.punctuation))\n",
        "\n",
        "\n",
        "stop_words = set(stopwords.words('english') + ['u', 'ü', 'ur', '4', '2', 'im', 'dont', 'doin', 'ure'])\n",
        "data['comment_text'] = data['comment_text'].apply(lambda x: ' '.join(\n",
        "    term for term in x.split() if term not in stop_words))\n",
        "\n",
        "\n",
        "lem=WordNetLemmatizer()\n",
        "data['comment_text'] = data['comment_text'].apply(lambda x: ' '.join(\n",
        " lem.lemmatize(t) for t in x.split()))\n"
      ],
      "metadata": {
        "colab": {
          "base_uri": "https://localhost:8080/"
        },
        "id": "0Fncqug1S_Ak",
        "outputId": "ea1a477f-680b-48fa-ff4b-d0796b9cb77e"
      },
      "execution_count": 6,
      "outputs": [
        {
          "output_type": "stream",
          "name": "stdout",
          "text": [
            "[nltk_data] Downloading package stopwords to /root/nltk_data...\n",
            "[nltk_data]   Unzipping corpora/stopwords.zip.\n",
            "[nltk_data] Downloading package wordnet to /root/nltk_data...\n",
            "[nltk_data]   Unzipping corpora/wordnet.zip.\n"
          ]
        },
        {
          "output_type": "stream",
          "name": "stderr",
          "text": [
            "/usr/local/lib/python3.7/dist-packages/ipykernel_launcher.py:20: FutureWarning: The default value of regex will change from True to False in a future version.\n",
            "/usr/local/lib/python3.7/dist-packages/ipykernel_launcher.py:24: FutureWarning: The default value of regex will change from True to False in a future version.\n",
            "/usr/local/lib/python3.7/dist-packages/ipykernel_launcher.py:27: FutureWarning: The default value of regex will change from True to False in a future version.\n",
            "/usr/local/lib/python3.7/dist-packages/ipykernel_launcher.py:32: FutureWarning: The default value of regex will change from True to False in a future version.\n",
            "/usr/local/lib/python3.7/dist-packages/ipykernel_launcher.py:36: FutureWarning: The default value of regex will change from True to False in a future version.\n"
          ]
        }
      ]
    },
    {
      "cell_type": "code",
      "source": [
        "data['clean_length'] = data.comment_text.str.len()\n",
        "data.head(3)"
      ],
      "metadata": {
        "colab": {
          "base_uri": "https://localhost:8080/",
          "height": 381
        },
        "id": "YZDB1KtsTj_c",
        "outputId": "491c900f-478c-40c9-f856-490201352cef"
      },
      "execution_count": 7,
      "outputs": [
        {
          "output_type": "execute_result",
          "data": {
            "text/plain": [
              "                 id                                       comment_text  \\\n",
              "0  0000997932d777bf  explanation edits made username hardcore metal...   \n",
              "1  000103f0d9cfb60f  d'aww! match background colour i'm seemingly s...   \n",
              "2  000113f07ec002fd  hey man, i'm really trying edit war. guy const...   \n",
              "\n",
              "   malignant  highly_malignant  rude  threat  abuse  loathe  length  \\\n",
              "0          0                 0     0       0      0       0     264   \n",
              "1          0                 0     0       0      0       0     112   \n",
              "2          0                 0     0       0      0       0     233   \n",
              "\n",
              "   clean_length  \n",
              "0           180  \n",
              "1           111  \n",
              "2           149  "
            ],
            "text/html": [
              "\n",
              "  <div id=\"df-97ff706b-b556-4c05-878e-885ba06e94c3\">\n",
              "    <div class=\"colab-df-container\">\n",
              "      <div>\n",
              "<style scoped>\n",
              "    .dataframe tbody tr th:only-of-type {\n",
              "        vertical-align: middle;\n",
              "    }\n",
              "\n",
              "    .dataframe tbody tr th {\n",
              "        vertical-align: top;\n",
              "    }\n",
              "\n",
              "    .dataframe thead th {\n",
              "        text-align: right;\n",
              "    }\n",
              "</style>\n",
              "<table border=\"1\" class=\"dataframe\">\n",
              "  <thead>\n",
              "    <tr style=\"text-align: right;\">\n",
              "      <th></th>\n",
              "      <th>id</th>\n",
              "      <th>comment_text</th>\n",
              "      <th>malignant</th>\n",
              "      <th>highly_malignant</th>\n",
              "      <th>rude</th>\n",
              "      <th>threat</th>\n",
              "      <th>abuse</th>\n",
              "      <th>loathe</th>\n",
              "      <th>length</th>\n",
              "      <th>clean_length</th>\n",
              "    </tr>\n",
              "  </thead>\n",
              "  <tbody>\n",
              "    <tr>\n",
              "      <th>0</th>\n",
              "      <td>0000997932d777bf</td>\n",
              "      <td>explanation edits made username hardcore metal...</td>\n",
              "      <td>0</td>\n",
              "      <td>0</td>\n",
              "      <td>0</td>\n",
              "      <td>0</td>\n",
              "      <td>0</td>\n",
              "      <td>0</td>\n",
              "      <td>264</td>\n",
              "      <td>180</td>\n",
              "    </tr>\n",
              "    <tr>\n",
              "      <th>1</th>\n",
              "      <td>000103f0d9cfb60f</td>\n",
              "      <td>d'aww! match background colour i'm seemingly s...</td>\n",
              "      <td>0</td>\n",
              "      <td>0</td>\n",
              "      <td>0</td>\n",
              "      <td>0</td>\n",
              "      <td>0</td>\n",
              "      <td>0</td>\n",
              "      <td>112</td>\n",
              "      <td>111</td>\n",
              "    </tr>\n",
              "    <tr>\n",
              "      <th>2</th>\n",
              "      <td>000113f07ec002fd</td>\n",
              "      <td>hey man, i'm really trying edit war. guy const...</td>\n",
              "      <td>0</td>\n",
              "      <td>0</td>\n",
              "      <td>0</td>\n",
              "      <td>0</td>\n",
              "      <td>0</td>\n",
              "      <td>0</td>\n",
              "      <td>233</td>\n",
              "      <td>149</td>\n",
              "    </tr>\n",
              "  </tbody>\n",
              "</table>\n",
              "</div>\n",
              "      <button class=\"colab-df-convert\" onclick=\"convertToInteractive('df-97ff706b-b556-4c05-878e-885ba06e94c3')\"\n",
              "              title=\"Convert this dataframe to an interactive table.\"\n",
              "              style=\"display:none;\">\n",
              "        \n",
              "  <svg xmlns=\"http://www.w3.org/2000/svg\" height=\"24px\"viewBox=\"0 0 24 24\"\n",
              "       width=\"24px\">\n",
              "    <path d=\"M0 0h24v24H0V0z\" fill=\"none\"/>\n",
              "    <path d=\"M18.56 5.44l.94 2.06.94-2.06 2.06-.94-2.06-.94-.94-2.06-.94 2.06-2.06.94zm-11 1L8.5 8.5l.94-2.06 2.06-.94-2.06-.94L8.5 2.5l-.94 2.06-2.06.94zm10 10l.94 2.06.94-2.06 2.06-.94-2.06-.94-.94-2.06-.94 2.06-2.06.94z\"/><path d=\"M17.41 7.96l-1.37-1.37c-.4-.4-.92-.59-1.43-.59-.52 0-1.04.2-1.43.59L10.3 9.45l-7.72 7.72c-.78.78-.78 2.05 0 2.83L4 21.41c.39.39.9.59 1.41.59.51 0 1.02-.2 1.41-.59l7.78-7.78 2.81-2.81c.8-.78.8-2.07 0-2.86zM5.41 20L4 18.59l7.72-7.72 1.47 1.35L5.41 20z\"/>\n",
              "  </svg>\n",
              "      </button>\n",
              "      \n",
              "  <style>\n",
              "    .colab-df-container {\n",
              "      display:flex;\n",
              "      flex-wrap:wrap;\n",
              "      gap: 12px;\n",
              "    }\n",
              "\n",
              "    .colab-df-convert {\n",
              "      background-color: #E8F0FE;\n",
              "      border: none;\n",
              "      border-radius: 50%;\n",
              "      cursor: pointer;\n",
              "      display: none;\n",
              "      fill: #1967D2;\n",
              "      height: 32px;\n",
              "      padding: 0 0 0 0;\n",
              "      width: 32px;\n",
              "    }\n",
              "\n",
              "    .colab-df-convert:hover {\n",
              "      background-color: #E2EBFA;\n",
              "      box-shadow: 0px 1px 2px rgba(60, 64, 67, 0.3), 0px 1px 3px 1px rgba(60, 64, 67, 0.15);\n",
              "      fill: #174EA6;\n",
              "    }\n",
              "\n",
              "    [theme=dark] .colab-df-convert {\n",
              "      background-color: #3B4455;\n",
              "      fill: #D2E3FC;\n",
              "    }\n",
              "\n",
              "    [theme=dark] .colab-df-convert:hover {\n",
              "      background-color: #434B5C;\n",
              "      box-shadow: 0px 1px 3px 1px rgba(0, 0, 0, 0.15);\n",
              "      filter: drop-shadow(0px 1px 2px rgba(0, 0, 0, 0.3));\n",
              "      fill: #FFFFFF;\n",
              "    }\n",
              "  </style>\n",
              "\n",
              "      <script>\n",
              "        const buttonEl =\n",
              "          document.querySelector('#df-97ff706b-b556-4c05-878e-885ba06e94c3 button.colab-df-convert');\n",
              "        buttonEl.style.display =\n",
              "          google.colab.kernel.accessAllowed ? 'block' : 'none';\n",
              "\n",
              "        async function convertToInteractive(key) {\n",
              "          const element = document.querySelector('#df-97ff706b-b556-4c05-878e-885ba06e94c3');\n",
              "          const dataTable =\n",
              "            await google.colab.kernel.invokeFunction('convertToInteractive',\n",
              "                                                     [key], {});\n",
              "          if (!dataTable) return;\n",
              "\n",
              "          const docLinkHtml = 'Like what you see? Visit the ' +\n",
              "            '<a target=\"_blank\" href=https://colab.research.google.com/notebooks/data_table.ipynb>data table notebook</a>'\n",
              "            + ' to learn more about interactive tables.';\n",
              "          element.innerHTML = '';\n",
              "          dataTable['output_type'] = 'display_data';\n",
              "          await google.colab.output.renderOutput(dataTable, element);\n",
              "          const docLink = document.createElement('div');\n",
              "          docLink.innerHTML = docLinkHtml;\n",
              "          element.appendChild(docLink);\n",
              "        }\n",
              "      </script>\n",
              "    </div>\n",
              "  </div>\n",
              "  "
            ]
          },
          "metadata": {},
          "execution_count": 7
        }
      ]
    },
    {
      "cell_type": "code",
      "source": [
        "#splitting the data into test and training\n",
        "from sklearn.model_selection import train_test_split\n",
        "\n",
        "train, test = train_test_split(data, test_size=0.2, random_state=20)\n",
        "\n",
        "print(f\"No. of training examples: {train.shape[0]}\")\n",
        "print(f\"No. of testing examples: {test.shape[0]}\")\n",
        "\n",
        "'''\n",
        "test = data.iloc[127656:]\n",
        "train = data.iloc[:127656]\n",
        "'''"
      ],
      "metadata": {
        "id": "FtLKhSE2NqR5",
        "colab": {
          "base_uri": "https://localhost:8080/",
          "height": 70
        },
        "outputId": "10f03953-70d7-400f-d9fb-469b7cbcadcb"
      },
      "execution_count": 64,
      "outputs": [
        {
          "output_type": "stream",
          "name": "stdout",
          "text": [
            "No. of training examples: 120000\n",
            "No. of testing examples: 30000\n"
          ]
        },
        {
          "output_type": "execute_result",
          "data": {
            "text/plain": [
              "'\\ntest = data.iloc[127656:]\\ntrain = data.iloc[:127656]\\n'"
            ],
            "application/vnd.google.colaboratory.intrinsic+json": {
              "type": "string"
            }
          },
          "metadata": {},
          "execution_count": 64
        }
      ]
    },
    {
      "cell_type": "code",
      "source": [
        "test.shape"
      ],
      "metadata": {
        "colab": {
          "base_uri": "https://localhost:8080/"
        },
        "id": "W-p0rRka2MZg",
        "outputId": "b1c9d892-1a2b-4720-8b8b-f9b28d5aa0cf"
      },
      "execution_count": 65,
      "outputs": [
        {
          "output_type": "execute_result",
          "data": {
            "text/plain": [
              "(30000, 10)"
            ]
          },
          "metadata": {},
          "execution_count": 65
        }
      ]
    },
    {
      "cell_type": "code",
      "source": [
        "one_hot_labels=np.array(train.iloc[:,1])\n",
        "one_hot_labels=np.array(train.iloc[:,2:8])\n",
        "comments=np.array(train.iloc[:,1])\n",
        "malignant=np.array(train.iloc[:,2])\n",
        "highly_malignant=np.array(train.iloc[:,3])\n",
        "rude = np.array(train.iloc[:,4])\n",
        "threat=np.array(train.iloc[:,5])\n",
        "abuse=np.array(train.iloc[:,6])\n",
        "loathe=np.array(train.iloc[:,7])\n",
        "\n",
        "loathe[:10]"
      ],
      "metadata": {
        "id": "4zRpPA2YUH1U",
        "colab": {
          "base_uri": "https://localhost:8080/"
        },
        "outputId": "95807bfd-0909-4bff-9fed-5e7a8cc13bb4"
      },
      "execution_count": 66,
      "outputs": [
        {
          "output_type": "execute_result",
          "data": {
            "text/plain": [
              "array([0, 0, 0, 0, 0, 0, 0, 0, 0, 0])"
            ]
          },
          "metadata": {},
          "execution_count": 66
        }
      ]
    },
    {
      "cell_type": "code",
      "source": [
        "test_one_hot_labels=np.array(test.iloc[:,1])\n",
        "test_one_hot_labels=np.array(test.iloc[:,2:8])\n",
        "test_comments=np.array(test.iloc[:,1])\n",
        "test_malignant=np.array(test.iloc[:,2])\n",
        "test_highly_malignant=np.array(test.iloc[:,3])\n",
        "test_rude= np.array(test.iloc[:,4])\n",
        "test_threat=np.array(test.iloc[:,5])\n",
        "test_abuse=np.array(test.iloc[:,6])\n",
        "test_loathe=np.array(test.iloc[:,7])\n",
        "\n",
        "test_loathe[:10]"
      ],
      "metadata": {
        "colab": {
          "base_uri": "https://localhost:8080/"
        },
        "id": "m--bNpGtUZH9",
        "outputId": "6ae0fe3e-6a5e-43f8-d8b6-b1c73d44c7ec"
      },
      "execution_count": 67,
      "outputs": [
        {
          "output_type": "execute_result",
          "data": {
            "text/plain": [
              "array([0, 0, 0, 0, 0, 0, 0, 0, 0, 0])"
            ]
          },
          "metadata": {},
          "execution_count": 67
        }
      ]
    },
    {
      "cell_type": "code",
      "source": [
        "lang_tokenizer = tf.keras.preprocessing.text.Tokenizer()\n",
        "lang_tokenizer.fit_on_texts(train['comment_text'])\n",
        "\n",
        "## tf.keras.preprocessing.text.Tokenizer.texts_to_sequences converts string (w1, w2, w3, ......, wn) \n",
        "## to a list of correspoding integer ids of words (id_w1, id_w2, id_w3, ...., id_wn)\n",
        "tensor = lang_tokenizer.texts_to_sequences(train['comment_text']) \n",
        "tensor=tf.keras.preprocessing.sequence.pad_sequences(tensor)"
      ],
      "metadata": {
        "id": "MN3xZ14VUhjE"
      },
      "execution_count": 114,
      "outputs": []
    },
    {
      "cell_type": "code",
      "source": [
        "vocab_size=len(lang_tokenizer.word_counts.keys())\n",
        "max_len=tensor.shape[-1]\n",
        "num_classes=6\n",
        "\n",
        "print((vocab_size))"
      ],
      "metadata": {
        "colab": {
          "base_uri": "https://localhost:8080/"
        },
        "id": "nM_xaDGXUoOB",
        "outputId": "ef5d9f29-0ccc-4430-97ff-e7e94cb02ce5"
      },
      "execution_count": 117,
      "outputs": [
        {
          "output_type": "stream",
          "name": "stdout",
          "text": [
            "165238\n"
          ]
        }
      ]
    },
    {
      "cell_type": "code",
      "source": [
        "import torch\n",
        "\n",
        "print(torch.flatten(tensor))"
      ],
      "metadata": {
        "colab": {
          "base_uri": "https://localhost:8080/",
          "height": 200
        },
        "id": "O7rYZW5YKSro",
        "outputId": "8f7437b7-aa9d-454c-bcec-1fbce3a9b99a"
      },
      "execution_count": 116,
      "outputs": [
        {
          "output_type": "error",
          "ename": "TypeError",
          "evalue": "ignored",
          "traceback": [
            "\u001b[0;31m---------------------------------------------------------------------------\u001b[0m",
            "\u001b[0;31mTypeError\u001b[0m                                 Traceback (most recent call last)",
            "\u001b[0;32m<ipython-input-116-24bfdeda495b>\u001b[0m in \u001b[0;36m<module>\u001b[0;34m()\u001b[0m\n\u001b[1;32m      1\u001b[0m \u001b[0;32mimport\u001b[0m \u001b[0mtorch\u001b[0m\u001b[0;34m\u001b[0m\u001b[0;34m\u001b[0m\u001b[0m\n\u001b[1;32m      2\u001b[0m \u001b[0;34m\u001b[0m\u001b[0m\n\u001b[0;32m----> 3\u001b[0;31m \u001b[0mprint\u001b[0m\u001b[0;34m(\u001b[0m\u001b[0mtorch\u001b[0m\u001b[0;34m.\u001b[0m\u001b[0mflatten\u001b[0m\u001b[0;34m(\u001b[0m\u001b[0mtensor\u001b[0m\u001b[0;34m)\u001b[0m\u001b[0;34m)\u001b[0m\u001b[0;34m\u001b[0m\u001b[0;34m\u001b[0m\u001b[0m\n\u001b[0m",
            "\u001b[0;31mTypeError\u001b[0m: flatten(): argument 'input' (position 1) must be Tensor, not numpy.ndarray"
          ]
        }
      ]
    },
    {
      "cell_type": "code",
      "source": [
        "tensor.shape,one_hot_labels.shape"
      ],
      "metadata": {
        "colab": {
          "base_uri": "https://localhost:8080/"
        },
        "id": "Sk_URRKQUvhK",
        "outputId": "f9c6f479-b587-4baf-9e39-fd547a591d66"
      },
      "execution_count": 75,
      "outputs": [
        {
          "output_type": "execute_result",
          "data": {
            "text/plain": [
              "((120000, 1349), (120000, 6))"
            ]
          },
          "metadata": {},
          "execution_count": 75
        }
      ]
    },
    {
      "cell_type": "code",
      "source": [
        "#tf.reshape(max_len,[935]\n",
        "max_len"
      ],
      "metadata": {
        "colab": {
          "base_uri": "https://localhost:8080/"
        },
        "id": "CDfjnPWsU16X",
        "outputId": "9daba705-7855-4219-8a8e-8a75690bc4c2"
      },
      "execution_count": 76,
      "outputs": [
        {
          "output_type": "execute_result",
          "data": {
            "text/plain": [
              "1349"
            ]
          },
          "metadata": {},
          "execution_count": 76
        }
      ]
    },
    {
      "cell_type": "code",
      "source": [
        "test_lang_tokenizer = tf.keras.preprocessing.text.Tokenizer()\n",
        "test_lang_tokenizer.fit_on_texts(test['comment_text'])\n",
        "\n",
        "## tf.keras.preprocessing.text.Tokenizer.texts_to_sequences converts string (w1, w2, w3, ......, wn) \n",
        "## to a list of correspoding integer ids of words (id_w1, id_w2, id_w3, ...., id_wn)\n",
        "test_tensor = lang_tokenizer.texts_to_sequences(test['comment_text']) \n",
        "test_tensor=tf.keras.preprocessing.sequence.pad_sequences(test_tensor)\n"
      ],
      "metadata": {
        "id": "ajLLhqTOVhpL"
      },
      "execution_count": 77,
      "outputs": []
    },
    {
      "cell_type": "code",
      "source": [
        "test_vocab_size=len(test_lang_tokenizer.word_counts.keys())\n",
        "test_max_len=test_tensor.shape[-1]\n",
        "\n",
        "num_classes=6\n",
        "\n",
        "print(test_vocab_size)"
      ],
      "metadata": {
        "colab": {
          "base_uri": "https://localhost:8080/"
        },
        "id": "O8s4SPfJCa_n",
        "outputId": "a09f204b-9c05-4587-ce7b-29b31d52a0f7"
      },
      "execution_count": 84,
      "outputs": [
        {
          "output_type": "stream",
          "name": "stdout",
          "text": [
            "70399\n"
          ]
        }
      ]
    },
    {
      "cell_type": "code",
      "source": [
        "test_max_len"
      ],
      "metadata": {
        "colab": {
          "base_uri": "https://localhost:8080/"
        },
        "id": "i7lL48AyIH21",
        "outputId": "832dd403-16c5-4587-833b-645a5016a1d4"
      },
      "execution_count": 85,
      "outputs": [
        {
          "output_type": "execute_result",
          "data": {
            "text/plain": [
              "935"
            ]
          },
          "metadata": {},
          "execution_count": 85
        }
      ]
    },
    {
      "cell_type": "code",
      "source": [
        "test_tensor.shape"
      ],
      "metadata": {
        "colab": {
          "base_uri": "https://localhost:8080/"
        },
        "id": "GD5oBNavIVm1",
        "outputId": "b2f7d6dc-9581-4115-b55e-a4e32a99fe0b"
      },
      "execution_count": 86,
      "outputs": [
        {
          "output_type": "execute_result",
          "data": {
            "text/plain": [
              "(30000, 935)"
            ]
          },
          "metadata": {},
          "execution_count": 86
        }
      ]
    },
    {
      "cell_type": "code",
      "source": [
        "test_tensor.shape, test_one_hot_labels.shape"
      ],
      "metadata": {
        "colab": {
          "base_uri": "https://localhost:8080/"
        },
        "id": "KjH84O7CV4tb",
        "outputId": "ebc7444f-8ba5-4163-d406-a1f543144eb8"
      },
      "execution_count": 37,
      "outputs": [
        {
          "output_type": "execute_result",
          "data": {
            "text/plain": [
              "((45000, 935), (45000, 6))"
            ]
          },
          "metadata": {},
          "execution_count": 37
        }
      ]
    },
    {
      "cell_type": "code",
      "source": [
        "test_max_len"
      ],
      "metadata": {
        "colab": {
          "base_uri": "https://localhost:8080/"
        },
        "id": "ebQRUdQLWLga",
        "outputId": "f6ee32fb-5f57-42bf-ab65-93a587a9c8de"
      },
      "execution_count": 38,
      "outputs": [
        {
          "output_type": "execute_result",
          "data": {
            "text/plain": [
              "935"
            ]
          },
          "metadata": {},
          "execution_count": 38
        }
      ]
    },
    {
      "cell_type": "code",
      "source": [
        "#data processing - create list of comment_texts\n",
        "train_split = []\n",
        "for row in train['comment_text']:\n",
        "    train_split.append(row)\n",
        "\n",
        "test_split= []\n",
        "for row in test['comment_text']:\n",
        "  test_split.append(row)\n"
      ],
      "metadata": {
        "id": "900fXmLabPIT"
      },
      "execution_count": null,
      "outputs": []
    },
    {
      "cell_type": "code",
      "execution_count": null,
      "metadata": {
        "id": "bs_6TCK_16UH",
        "colab": {
          "base_uri": "https://localhost:8080/"
        },
        "outputId": "9570aa5e-7b1e-4571-acc4-efdfb3199531"
      },
      "outputs": [
        {
          "output_type": "stream",
          "name": "stdout",
          "text": [
            "Model: \"model\"\n",
            "__________________________________________________________________________________________________\n",
            " Layer (type)                   Output Shape         Param #     Connected to                     \n",
            "==================================================================================================\n",
            " input_1 (InputLayer)           [(None, 1349)]       0           []                               \n",
            "                                                                                                  \n",
            " embedding (Embedding)          (None, 1349, 30)     5148300     ['input_1[0][0]']                \n",
            "                                                                                                  \n",
            " lstm (LSTM)                    (None, 128)          81408       ['embedding[0][0]']              \n",
            "                                                                                                  \n",
            " dense (Dense)                  (None, 64)           8256        ['lstm[0][0]']                   \n",
            "                                                                                                  \n",
            " Malignant (Dense)              (None, 1)            65          ['dense[0][0]']                  \n",
            "                                                                                                  \n",
            " Highly_Malignant (Dense)       (None, 1)            65          ['dense[0][0]']                  \n",
            "                                                                                                  \n",
            " Rude (Dense)                   (None, 1)            65          ['dense[0][0]']                  \n",
            "                                                                                                  \n",
            " Threat (Dense)                 (None, 1)            65          ['dense[0][0]']                  \n",
            "                                                                                                  \n",
            " Abuse (Dense)                  (None, 1)            65          ['dense[0][0]']                  \n",
            "                                                                                                  \n",
            " Loathe (Dense)                 (None, 1)            65          ['dense[0][0]']                  \n",
            "                                                                                                  \n",
            "==================================================================================================\n",
            "Total params: 5,238,354\n",
            "Trainable params: 5,238,354\n",
            "Non-trainable params: 0\n",
            "__________________________________________________________________________________________________\n",
            "None\n",
            "Epoch 1/25\n",
            "499/499 [==============================] - 73s 127ms/step - loss: 0.6462 - Malignant_loss: 0.2285 - Highly_Malignant_loss: 0.0496 - Rude_loss: 0.1457 - Threat_loss: 0.0288 - Abuse_loss: 0.1432 - Loathe_loss: 0.0503 - Malignant_accuracy: 0.9281 - Malignant_precision: 0.8159 - Malignant_recall: 0.3181 - Highly_Malignant_accuracy: 0.9884 - Highly_Malignant_precision: 0.2333 - Highly_Malignant_recall: 0.0717 - Rude_accuracy: 0.9579 - Rude_precision: 0.7114 - Rude_recall: 0.3435 - Threat_accuracy: 0.9959 - Threat_precision: 0.0204 - Threat_recall: 0.0078 - Abuse_accuracy: 0.9583 - Abuse_precision: 0.6611 - Abuse_recall: 0.3084 - Loathe_accuracy: 0.9898 - Loathe_precision: 0.0693 - Loathe_recall: 0.0145\n",
            "Epoch 2/25\n",
            "499/499 [==============================] - 63s 127ms/step - loss: 0.3223 - Malignant_loss: 0.1118 - Highly_Malignant_loss: 0.0254 - Rude_loss: 0.0656 - Threat_loss: 0.0148 - Abuse_loss: 0.0739 - Loathe_loss: 0.0309 - Malignant_accuracy: 0.9597 - Malignant_precision: 0.8401 - Malignant_recall: 0.7136 - Highly_Malignant_accuracy: 0.9899 - Highly_Malignant_precision: 0.4623 - Highly_Malignant_recall: 0.0724 - Rude_accuracy: 0.9750 - Rude_precision: 0.7788 - Rude_recall: 0.7376 - Threat_accuracy: 0.9970 - Threat_precision: 0.3333 - Threat_recall: 0.0026 - Abuse_accuracy: 0.9698 - Abuse_precision: 0.7109 - Abuse_recall: 0.6502 - Loathe_accuracy: 0.9913 - Loathe_precision: 0.2000 - Loathe_recall: 9.0498e-04\n",
            "Epoch 3/25\n",
            "499/499 [==============================] - 64s 127ms/step - loss: 0.2610 - Malignant_loss: 0.0816 - Highly_Malignant_loss: 0.0236 - Rude_loss: 0.0507 - Threat_loss: 0.0142 - Abuse_loss: 0.0620 - Loathe_loss: 0.0289 - Malignant_accuracy: 0.9706 - Malignant_precision: 0.8764 - Malignant_recall: 0.8054 - Highly_Malignant_accuracy: 0.9902 - Highly_Malignant_precision: 0.5455 - Highly_Malignant_recall: 0.0945 - Rude_accuracy: 0.9795 - Rude_precision: 0.8180 - Rude_recall: 0.7866 - Threat_accuracy: 0.9969 - Threat_precision: 0.0000e+00 - Threat_recall: 0.0000e+00 - Abuse_accuracy: 0.9729 - Abuse_precision: 0.7299 - Abuse_recall: 0.7097 - Loathe_accuracy: 0.9913 - Loathe_precision: 0.1429 - Loathe_recall: 9.0498e-04\n",
            "Epoch 4/25\n",
            "499/499 [==============================] - 64s 127ms/step - loss: 0.2286 - Malignant_loss: 0.0658 - Highly_Malignant_loss: 0.0220 - Rude_loss: 0.0432 - Threat_loss: 0.0136 - Abuse_loss: 0.0561 - Loathe_loss: 0.0279 - Malignant_accuracy: 0.9765 - Malignant_precision: 0.8900 - Malignant_recall: 0.8601 - Highly_Malignant_accuracy: 0.9903 - Highly_Malignant_precision: 0.5464 - Highly_Malignant_recall: 0.1575 - Rude_accuracy: 0.9826 - Rude_precision: 0.8442 - Rude_recall: 0.8232 - Threat_accuracy: 0.9970 - Threat_precision: 0.0000e+00 - Threat_recall: 0.0000e+00 - Abuse_accuracy: 0.9753 - Abuse_precision: 0.7521 - Abuse_recall: 0.7420 - Loathe_accuracy: 0.9913 - Loathe_precision: 0.0000e+00 - Loathe_recall: 0.0000e+00\n",
            "Epoch 5/25\n",
            "499/499 [==============================] - 64s 127ms/step - loss: 0.2050 - Malignant_loss: 0.0550 - Highly_Malignant_loss: 0.0206 - Rude_loss: 0.0381 - Threat_loss: 0.0130 - Abuse_loss: 0.0516 - Loathe_loss: 0.0268 - Malignant_accuracy: 0.9799 - Malignant_precision: 0.8970 - Malignant_recall: 0.8923 - Highly_Malignant_accuracy: 0.9908 - Highly_Malignant_precision: 0.5799 - Highly_Malignant_recall: 0.2630 - Rude_accuracy: 0.9847 - Rude_precision: 0.8646 - Rude_recall: 0.8432 - Threat_accuracy: 0.9970 - Threat_precision: 0.6667 - Threat_recall: 0.0052 - Abuse_accuracy: 0.9775 - Abuse_precision: 0.7753 - Abuse_recall: 0.7632 - Loathe_accuracy: 0.9913 - Loathe_precision: 0.2500 - Loathe_recall: 9.0498e-04\n",
            "Epoch 6/25\n",
            "499/499 [==============================] - 64s 127ms/step - loss: 0.2083 - Malignant_loss: 0.0572 - Highly_Malignant_loss: 0.0216 - Rude_loss: 0.0380 - Threat_loss: 0.0127 - Abuse_loss: 0.0523 - Loathe_loss: 0.0265 - Malignant_accuracy: 0.9790 - Malignant_precision: 0.8969 - Malignant_recall: 0.8807 - Highly_Malignant_accuracy: 0.9907 - Highly_Malignant_precision: 0.5891 - Highly_Malignant_recall: 0.2291 - Rude_accuracy: 0.9852 - Rude_precision: 0.8689 - Rude_recall: 0.8476 - Threat_accuracy: 0.9970 - Threat_precision: 0.0000e+00 - Threat_recall: 0.0000e+00 - Abuse_accuracy: 0.9780 - Abuse_precision: 0.7842 - Abuse_recall: 0.7624 - Loathe_accuracy: 0.9913 - Loathe_precision: 0.4474 - Loathe_recall: 0.0154\n",
            "Epoch 7/25\n",
            "499/499 [==============================] - 64s 128ms/step - loss: 0.1792 - Malignant_loss: 0.0462 - Highly_Malignant_loss: 0.0192 - Rude_loss: 0.0316 - Threat_loss: 0.0119 - Abuse_loss: 0.0464 - Loathe_loss: 0.0240 - Malignant_accuracy: 0.9828 - Malignant_precision: 0.9061 - Malignant_recall: 0.9140 - Highly_Malignant_accuracy: 0.9916 - Highly_Malignant_precision: 0.6442 - Highly_Malignant_recall: 0.3394 - Rude_accuracy: 0.9876 - Rude_precision: 0.8872 - Rude_recall: 0.8765 - Threat_accuracy: 0.9970 - Threat_precision: 0.3333 - Threat_recall: 0.0052 - Abuse_accuracy: 0.9803 - Abuse_precision: 0.8024 - Abuse_recall: 0.7943 - Loathe_accuracy: 0.9913 - Loathe_precision: 0.5000 - Loathe_recall: 0.0760\n",
            "Epoch 8/25\n",
            "499/499 [==============================] - 63s 127ms/step - loss: 0.1606 - Malignant_loss: 0.0406 - Highly_Malignant_loss: 0.0180 - Rude_loss: 0.0269 - Threat_loss: 0.0108 - Abuse_loss: 0.0434 - Loathe_loss: 0.0209 - Malignant_accuracy: 0.9855 - Malignant_precision: 0.9143 - Malignant_recall: 0.9357 - Highly_Malignant_accuracy: 0.9924 - Highly_Malignant_precision: 0.6864 - Highly_Malignant_recall: 0.4378 - Rude_accuracy: 0.9898 - Rude_precision: 0.9061 - Rude_recall: 0.9012 - Threat_accuracy: 0.9970 - Threat_precision: 0.5714 - Threat_recall: 0.0312 - Abuse_accuracy: 0.9822 - Abuse_precision: 0.8225 - Abuse_recall: 0.8119 - Loathe_accuracy: 0.9921 - Loathe_precision: 0.6186 - Loathe_recall: 0.2407\n",
            "Epoch 9/25\n",
            "499/499 [==============================] - 63s 127ms/step - loss: 0.1688 - Malignant_loss: 0.0450 - Highly_Malignant_loss: 0.0177 - Rude_loss: 0.0328 - Threat_loss: 0.0106 - Abuse_loss: 0.0436 - Loathe_loss: 0.0191 - Malignant_accuracy: 0.9842 - Malignant_precision: 0.9166 - Malignant_recall: 0.9175 - Highly_Malignant_accuracy: 0.9926 - Highly_Malignant_precision: 0.6923 - Highly_Malignant_recall: 0.4606 - Rude_accuracy: 0.9893 - Rude_precision: 0.9081 - Rude_recall: 0.8869 - Threat_accuracy: 0.9970 - Threat_precision: 0.4706 - Threat_recall: 0.0416 - Abuse_accuracy: 0.9826 - Abuse_precision: 0.8277 - Abuse_recall: 0.8154 - Loathe_accuracy: 0.9928 - Loathe_precision: 0.6591 - Loathe_recall: 0.3394\n",
            "Epoch 10/25\n",
            "499/499 [==============================] - 63s 127ms/step - loss: 0.1409 - Malignant_loss: 0.0374 - Highly_Malignant_loss: 0.0160 - Rude_loss: 0.0228 - Threat_loss: 0.0098 - Abuse_loss: 0.0384 - Loathe_loss: 0.0165 - Malignant_accuracy: 0.9862 - Malignant_precision: 0.9176 - Malignant_recall: 0.9401 - Highly_Malignant_accuracy: 0.9933 - Highly_Malignant_precision: 0.7270 - Highly_Malignant_recall: 0.5283 - Rude_accuracy: 0.9915 - Rude_precision: 0.9199 - Rude_recall: 0.9186 - Threat_accuracy: 0.9970 - Threat_precision: 0.5800 - Threat_recall: 0.0753 - Abuse_accuracy: 0.9847 - Abuse_precision: 0.8460 - Abuse_recall: 0.8414 - Loathe_accuracy: 0.9937 - Loathe_precision: 0.7292 - Loathe_recall: 0.4362\n",
            "Epoch 11/25\n",
            "499/499 [==============================] - 64s 127ms/step - loss: 0.1193 - Malignant_loss: 0.0315 - Highly_Malignant_loss: 0.0142 - Rude_loss: 0.0178 - Threat_loss: 0.0091 - Abuse_loss: 0.0335 - Loathe_loss: 0.0132 - Malignant_accuracy: 0.9886 - Malignant_precision: 0.9265 - Malignant_recall: 0.9569 - Highly_Malignant_accuracy: 0.9943 - Highly_Malignant_precision: 0.7640 - Highly_Malignant_recall: 0.6220 - Rude_accuracy: 0.9935 - Rude_precision: 0.9362 - Rude_recall: 0.9405 - Threat_accuracy: 0.9971 - Threat_precision: 0.5867 - Threat_recall: 0.1143 - Abuse_accuracy: 0.9872 - Abuse_precision: 0.8720 - Abuse_recall: 0.8653 - Loathe_accuracy: 0.9950 - Loathe_precision: 0.7677 - Loathe_recall: 0.5982\n",
            "Epoch 12/25\n",
            "499/499 [==============================] - 64s 127ms/step - loss: 0.1040 - Malignant_loss: 0.0280 - Highly_Malignant_loss: 0.0126 - Rude_loss: 0.0152 - Threat_loss: 0.0080 - Abuse_loss: 0.0293 - Loathe_loss: 0.0109 - Malignant_accuracy: 0.9897 - Malignant_precision: 0.9360 - Malignant_recall: 0.9579 - Highly_Malignant_accuracy: 0.9949 - Highly_Malignant_precision: 0.7883 - Highly_Malignant_recall: 0.6685 - Rude_accuracy: 0.9946 - Rude_precision: 0.9502 - Rude_recall: 0.9486 - Threat_accuracy: 0.9973 - Threat_precision: 0.6190 - Threat_recall: 0.2364 - Abuse_accuracy: 0.9889 - Abuse_precision: 0.8860 - Abuse_recall: 0.8877 - Loathe_accuracy: 0.9956 - Loathe_precision: 0.7894 - Loathe_recall: 0.6715\n",
            "Epoch 13/25\n",
            "499/499 [==============================] - 64s 127ms/step - loss: 0.0889 - Malignant_loss: 0.0234 - Highly_Malignant_loss: 0.0112 - Rude_loss: 0.0132 - Threat_loss: 0.0066 - Abuse_loss: 0.0252 - Loathe_loss: 0.0093 - Malignant_accuracy: 0.9916 - Malignant_precision: 0.9474 - Malignant_recall: 0.9655 - Highly_Malignant_accuracy: 0.9954 - Highly_Malignant_precision: 0.8039 - Highly_Malignant_recall: 0.7165 - Rude_accuracy: 0.9954 - Rude_precision: 0.9570 - Rude_recall: 0.9553 - Threat_accuracy: 0.9977 - Threat_precision: 0.7078 - Threat_recall: 0.4026 - Abuse_accuracy: 0.9905 - Abuse_precision: 0.9010 - Abuse_recall: 0.9057 - Loathe_accuracy: 0.9965 - Loathe_precision: 0.8310 - Loathe_recall: 0.7520\n",
            "Epoch 14/25\n",
            "499/499 [==============================] - 64s 127ms/step - loss: 0.0758 - Malignant_loss: 0.0196 - Highly_Malignant_loss: 0.0100 - Rude_loss: 0.0117 - Threat_loss: 0.0054 - Abuse_loss: 0.0216 - Loathe_loss: 0.0074 - Malignant_accuracy: 0.9932 - Malignant_precision: 0.9582 - Malignant_recall: 0.9705 - Highly_Malignant_accuracy: 0.9959 - Highly_Malignant_precision: 0.8291 - Highly_Malignant_recall: 0.7449 - Rude_accuracy: 0.9958 - Rude_precision: 0.9599 - Rude_recall: 0.9614 - Threat_accuracy: 0.9980 - Threat_precision: 0.7556 - Threat_recall: 0.5221 - Abuse_accuracy: 0.9921 - Abuse_precision: 0.9153 - Abuse_recall: 0.9240 - Loathe_accuracy: 0.9973 - Loathe_precision: 0.8679 - Loathe_recall: 0.8145\n",
            "Epoch 15/25\n",
            "499/499 [==============================] - 64s 127ms/step - loss: 0.0691 - Malignant_loss: 0.0190 - Highly_Malignant_loss: 0.0092 - Rude_loss: 0.0104 - Threat_loss: 0.0048 - Abuse_loss: 0.0194 - Loathe_loss: 0.0064 - Malignant_accuracy: 0.9935 - Malignant_precision: 0.9619 - Malignant_recall: 0.9706 - Highly_Malignant_accuracy: 0.9962 - Highly_Malignant_precision: 0.8402 - Highly_Malignant_recall: 0.7661 - Rude_accuracy: 0.9964 - Rude_precision: 0.9639 - Rude_recall: 0.9686 - Threat_accuracy: 0.9983 - Threat_precision: 0.7917 - Threat_recall: 0.5922 - Abuse_accuracy: 0.9927 - Abuse_precision: 0.9210 - Abuse_recall: 0.9314 - Loathe_accuracy: 0.9976 - Loathe_precision: 0.8786 - Loathe_recall: 0.8380\n",
            "Epoch 16/25\n",
            "499/499 [==============================] - 63s 127ms/step - loss: 0.0598 - Malignant_loss: 0.0154 - Highly_Malignant_loss: 0.0086 - Rude_loss: 0.0095 - Threat_loss: 0.0042 - Abuse_loss: 0.0167 - Loathe_loss: 0.0054 - Malignant_accuracy: 0.9947 - Malignant_precision: 0.9684 - Malignant_recall: 0.9768 - Highly_Malignant_accuracy: 0.9963 - Highly_Malignant_precision: 0.8364 - Highly_Malignant_recall: 0.7811 - Rude_accuracy: 0.9968 - Rude_precision: 0.9691 - Rude_recall: 0.9702 - Threat_accuracy: 0.9985 - Threat_precision: 0.8262 - Threat_recall: 0.6545 - Abuse_accuracy: 0.9938 - Abuse_precision: 0.9315 - Abuse_recall: 0.9422 - Loathe_accuracy: 0.9980 - Loathe_precision: 0.8997 - Loathe_recall: 0.8688\n",
            "Epoch 17/25\n",
            "499/499 [==============================] - 64s 127ms/step - loss: 0.0529 - Malignant_loss: 0.0132 - Highly_Malignant_loss: 0.0078 - Rude_loss: 0.0080 - Threat_loss: 0.0037 - Abuse_loss: 0.0150 - Loathe_loss: 0.0051 - Malignant_accuracy: 0.9956 - Malignant_precision: 0.9748 - Malignant_recall: 0.9791 - Highly_Malignant_accuracy: 0.9967 - Highly_Malignant_precision: 0.8579 - Highly_Malignant_recall: 0.8031 - Rude_accuracy: 0.9973 - Rude_precision: 0.9737 - Rude_recall: 0.9747 - Threat_accuracy: 0.9987 - Threat_precision: 0.8395 - Threat_recall: 0.7065 - Abuse_accuracy: 0.9943 - Abuse_precision: 0.9378 - Abuse_recall: 0.9473 - Loathe_accuracy: 0.9982 - Loathe_precision: 0.9041 - Loathe_recall: 0.8869\n",
            "Epoch 18/25\n",
            "499/499 [==============================] - 64s 127ms/step - loss: 0.0461 - Malignant_loss: 0.0112 - Highly_Malignant_loss: 0.0071 - Rude_loss: 0.0071 - Threat_loss: 0.0031 - Abuse_loss: 0.0133 - Loathe_loss: 0.0043 - Malignant_accuracy: 0.9963 - Malignant_precision: 0.9790 - Malignant_recall: 0.9828 - Highly_Malignant_accuracy: 0.9971 - Highly_Malignant_precision: 0.8744 - Highly_Malignant_recall: 0.8331 - Rude_accuracy: 0.9975 - Rude_precision: 0.9756 - Rude_recall: 0.9763 - Threat_accuracy: 0.9989 - Threat_precision: 0.8601 - Threat_recall: 0.7506 - Abuse_accuracy: 0.9952 - Abuse_precision: 0.9473 - Abuse_recall: 0.9556 - Loathe_accuracy: 0.9984 - Loathe_precision: 0.9164 - Loathe_recall: 0.9023\n",
            "Epoch 19/25\n",
            "499/499 [==============================] - 64s 127ms/step - loss: 0.0415 - Malignant_loss: 0.0105 - Highly_Malignant_loss: 0.0069 - Rude_loss: 0.0063 - Threat_loss: 0.0026 - Abuse_loss: 0.0114 - Loathe_loss: 0.0038 - Malignant_accuracy: 0.9966 - Malignant_precision: 0.9810 - Malignant_recall: 0.9837 - Highly_Malignant_accuracy: 0.9972 - Highly_Malignant_precision: 0.8765 - Highly_Malignant_recall: 0.8386 - Rude_accuracy: 0.9978 - Rude_precision: 0.9776 - Rude_recall: 0.9809 - Threat_accuracy: 0.9991 - Threat_precision: 0.8817 - Threat_recall: 0.8130 - Abuse_accuracy: 0.9958 - Abuse_precision: 0.9531 - Abuse_recall: 0.9627 - Loathe_accuracy: 0.9986 - Loathe_precision: 0.9255 - Loathe_recall: 0.9104\n",
            "Epoch 20/25\n",
            "499/499 [==============================] - 64s 128ms/step - loss: 0.0376 - Malignant_loss: 0.0095 - Highly_Malignant_loss: 0.0065 - Rude_loss: 0.0057 - Threat_loss: 0.0022 - Abuse_loss: 0.0102 - Loathe_loss: 0.0035 - Malignant_accuracy: 0.9968 - Malignant_precision: 0.9814 - Malignant_recall: 0.9851 - Highly_Malignant_accuracy: 0.9975 - Highly_Malignant_precision: 0.8955 - Highly_Malignant_recall: 0.8504 - Rude_accuracy: 0.9980 - Rude_precision: 0.9803 - Rude_recall: 0.9812 - Threat_accuracy: 0.9992 - Threat_precision: 0.8852 - Threat_recall: 0.8416 - Abuse_accuracy: 0.9964 - Abuse_precision: 0.9601 - Abuse_recall: 0.9673 - Loathe_accuracy: 0.9988 - Loathe_precision: 0.9332 - Loathe_recall: 0.9222\n",
            "Epoch 21/25\n",
            "499/499 [==============================] - 64s 128ms/step - loss: 0.0341 - Malignant_loss: 0.0081 - Highly_Malignant_loss: 0.0059 - Rude_loss: 0.0054 - Threat_loss: 0.0021 - Abuse_loss: 0.0094 - Loathe_loss: 0.0033 - Malignant_accuracy: 0.9974 - Malignant_precision: 0.9852 - Malignant_recall: 0.9874 - Highly_Malignant_accuracy: 0.9977 - Highly_Malignant_precision: 0.8967 - Highly_Malignant_recall: 0.8677 - Rude_accuracy: 0.9982 - Rude_precision: 0.9823 - Rude_recall: 0.9834 - Threat_accuracy: 0.9993 - Threat_precision: 0.8986 - Threat_recall: 0.8519 - Abuse_accuracy: 0.9965 - Abuse_precision: 0.9609 - Abuse_recall: 0.9687 - Loathe_accuracy: 0.9988 - Loathe_precision: 0.9376 - Loathe_recall: 0.9249\n",
            "Epoch 22/25\n",
            "499/499 [==============================] - 64s 128ms/step - loss: 0.0307 - Malignant_loss: 0.0077 - Highly_Malignant_loss: 0.0054 - Rude_loss: 0.0047 - Threat_loss: 0.0018 - Abuse_loss: 0.0081 - Loathe_loss: 0.0029 - Malignant_accuracy: 0.9975 - Malignant_precision: 0.9865 - Malignant_recall: 0.9876 - Highly_Malignant_accuracy: 0.9978 - Highly_Malignant_precision: 0.9034 - Highly_Malignant_recall: 0.8693 - Rude_accuracy: 0.9984 - Rude_precision: 0.9838 - Rude_recall: 0.9870 - Threat_accuracy: 0.9994 - Threat_precision: 0.9096 - Threat_recall: 0.8883 - Abuse_accuracy: 0.9969 - Abuse_precision: 0.9653 - Abuse_recall: 0.9719 - Loathe_accuracy: 0.9990 - Loathe_precision: 0.9467 - Loathe_recall: 0.9321\n",
            "Epoch 23/25\n",
            "499/499 [==============================] - 64s 127ms/step - loss: 0.0283 - Malignant_loss: 0.0070 - Highly_Malignant_loss: 0.0051 - Rude_loss: 0.0047 - Threat_loss: 0.0015 - Abuse_loss: 0.0073 - Loathe_loss: 0.0025 - Malignant_accuracy: 0.9977 - Malignant_precision: 0.9870 - Malignant_recall: 0.9886 - Highly_Malignant_accuracy: 0.9978 - Highly_Malignant_precision: 0.9017 - Highly_Malignant_recall: 0.8740 - Rude_accuracy: 0.9984 - Rude_precision: 0.9839 - Rude_recall: 0.9865 - Threat_accuracy: 0.9995 - Threat_precision: 0.9392 - Threat_recall: 0.8831 - Abuse_accuracy: 0.9974 - Abuse_precision: 0.9717 - Abuse_recall: 0.9753 - Loathe_accuracy: 0.9992 - Loathe_precision: 0.9528 - Loathe_recall: 0.9502\n",
            "Epoch 24/25\n",
            "499/499 [==============================] - 64s 127ms/step - loss: 0.0263 - Malignant_loss: 0.0065 - Highly_Malignant_loss: 0.0048 - Rude_loss: 0.0041 - Threat_loss: 0.0016 - Abuse_loss: 0.0069 - Loathe_loss: 0.0024 - Malignant_accuracy: 0.9979 - Malignant_precision: 0.9895 - Malignant_recall: 0.9883 - Highly_Malignant_accuracy: 0.9981 - Highly_Malignant_precision: 0.9109 - Highly_Malignant_recall: 0.8937 - Rude_accuracy: 0.9985 - Rude_precision: 0.9851 - Rude_recall: 0.9865 - Threat_accuracy: 0.9995 - Threat_precision: 0.9303 - Threat_recall: 0.9013 - Abuse_accuracy: 0.9975 - Abuse_precision: 0.9716 - Abuse_recall: 0.9775 - Loathe_accuracy: 0.9992 - Loathe_precision: 0.9554 - Loathe_recall: 0.9502\n",
            "Epoch 25/25\n",
            "499/499 [==============================] - 64s 127ms/step - loss: 0.0235 - Malignant_loss: 0.0056 - Highly_Malignant_loss: 0.0044 - Rude_loss: 0.0038 - Threat_loss: 0.0013 - Abuse_loss: 0.0062 - Loathe_loss: 0.0023 - Malignant_accuracy: 0.9980 - Malignant_precision: 0.9885 - Malignant_recall: 0.9910 - Highly_Malignant_accuracy: 0.9981 - Highly_Malignant_precision: 0.9144 - Highly_Malignant_recall: 0.8913 - Rude_accuracy: 0.9987 - Rude_precision: 0.9874 - Rude_recall: 0.9882 - Threat_accuracy: 0.9995 - Threat_precision: 0.9335 - Threat_recall: 0.9117 - Abuse_accuracy: 0.9977 - Abuse_precision: 0.9752 - Abuse_recall: 0.9781 - Loathe_accuracy: 0.9992 - Loathe_precision: 0.9565 - Loathe_recall: 0.9557\n"
          ]
        },
        {
          "output_type": "execute_result",
          "data": {
            "text/plain": [
              "<keras.callbacks.History at 0x7f91b8452090>"
            ]
          },
          "metadata": {},
          "execution_count": 17
        }
      ],
      "source": [
        "from numpy import array\n",
        "import tensorflow\n",
        "from tensorflow.keras.preprocessing.text import one_hot\n",
        "from tensorflow.keras.preprocessing.sequence import pad_sequences\n",
        "from tensorflow.keras.models import Sequential\n",
        "from tensorflow.keras.layers import Dense\n",
        "from tensorflow.keras.layers import Flatten , Input\n",
        "from tensorflow.keras.layers import Embedding,LSTM\n",
        "from tensorflow.keras.models import Model\n",
        "\n",
        "\n",
        "# define the model\n",
        "model = Sequential()\n",
        "\n",
        "\n",
        "input_shape=(max_len,)\n",
        "\n",
        "inp=Input(input_shape)\n",
        "emb=Embedding(vocab_size, 30)(inp)\n",
        "lstm=LSTM(128,return_sequences=False)(emb)\n",
        "dense=Dense(64)(lstm)\n",
        "output_layers=[]\n",
        "\n",
        "#for i in range (0,num_classes):\n",
        "output_layers.append(Dense(1, activation='sigmoid',name='Malignant')(dense))\n",
        "output_layers.append(Dense(1, activation='sigmoid',name='Highly_Malignant')(dense))\n",
        "output_layers.append(Dense(1, activation='sigmoid',name='Rude')(dense))\n",
        "output_layers.append(Dense(1, activation='sigmoid',name='Threat')(dense))\n",
        "output_layers.append(Dense(1, activation='sigmoid',name='Abuse')(dense))\n",
        "output_layers.append(Dense(1, activation='sigmoid',name='Loathe')(dense))\n",
        "\n",
        "adam = tf.keras.optimizers.Adam(learning_rate=0.001)\n",
        "\n",
        "model = Model (inputs=inp,outputs=output_layers)\n",
        "model.compile(optimizer=adam, loss='binary_crossentropy',\n",
        "            metrics=['accuracy', tf.keras.metrics.Precision(), tensorflow.keras.metrics.Recall()])\n",
        "\n",
        "# summarize the model\n",
        "print(model.summary())\n",
        "# fit the model\n",
        "model.fit(tensor, [malignant, highly_malignant, rude, threat, abuse, loathe], epochs=25,batch_size=256 ,verbose=1,validation_steps=None)\n",
        "\n",
        "# evaluate the model\n",
        "#loss, accuracy = model.evaluate(tensor, [class1, class2, class3, class4, class5, class6], verbose=1)\n",
        "#print('Accuracy: %f' % (accuracy*100))"
      ]
    },
    {
      "cell_type": "code",
      "execution_count": null,
      "metadata": {
        "id": "KsxaiWzGtkmi",
        "colab": {
          "base_uri": "https://localhost:8080/"
        },
        "outputId": "b388838e-5dc4-4ec1-e940-ad226b41383a"
      },
      "outputs": [
        {
          "output_type": "stream",
          "name": "stderr",
          "text": [
            "WARNING:absl:Found untraced functions such as lstm_cell_layer_call_fn, lstm_cell_layer_call_and_return_conditional_losses while saving (showing 2 of 2). These functions will not be directly callable after loading.\n"
          ]
        },
        {
          "output_type": "stream",
          "name": "stdout",
          "text": [
            "INFO:tensorflow:Assets written to: ram://83cf68ab-cb41-4e6f-9236-7a33dd5e23b2/assets\n"
          ]
        },
        {
          "output_type": "stream",
          "name": "stderr",
          "text": [
            "INFO:tensorflow:Assets written to: ram://83cf68ab-cb41-4e6f-9236-7a33dd5e23b2/assets\n",
            "WARNING:absl:<keras.layers.recurrent.LSTMCell object at 0x7f91b7096b10> has the same name 'LSTMCell' as a built-in Keras object. Consider renaming <class 'keras.layers.recurrent.LSTMCell'> to avoid naming conflicts when loading with `tf.keras.models.load_model`. If renaming is not possible, pass the object in the `custom_objects` parameter of the load function.\n"
          ]
        }
      ],
      "source": [
        "import pickle\n",
        "#model.save('LSTM_NEW.hdf5')\n",
        "pickle.dump(model, open('LSTM.pkl', 'wb'))"
      ]
    },
    {
      "cell_type": "markdown",
      "source": [
        ""
      ],
      "metadata": {
        "id": "3vivdv0MqFJN"
      }
    },
    {
      "cell_type": "code",
      "source": [
        "import tensorflow as tf\n",
        "\n",
        "trained_model = tf.keras.models.load_model(\"/content/drive/MyDrive/ALL_About_AI/LSTM(ep=25-batch256-adam=0.001).hdf5\")\n"
      ],
      "metadata": {
        "id": "RvbTwXluR_8i"
      },
      "execution_count": null,
      "outputs": []
    },
    {
      "cell_type": "code",
      "source": [
        "trained_model.build(1349)"
      ],
      "metadata": {
        "id": "KS3rM0KF_M2d"
      },
      "execution_count": null,
      "outputs": []
    },
    {
      "cell_type": "code",
      "source": [
        "trained_model.summary()"
      ],
      "metadata": {
        "colab": {
          "base_uri": "https://localhost:8080/"
        },
        "id": "UvNfSNPCG0ZV",
        "outputId": "b0edf31c-00bd-4a50-afd9-83f33912ace5"
      },
      "execution_count": null,
      "outputs": [
        {
          "output_type": "stream",
          "name": "stdout",
          "text": [
            "Model: \"model_1\"\n",
            "__________________________________________________________________________________________________\n",
            " Layer (type)                   Output Shape         Param #     Connected to                     \n",
            "==================================================================================================\n",
            " input_2 (InputLayer)           [(None, 1349)]       0           []                               \n",
            "                                                                                                  \n",
            " embedding_1 (Embedding)        (None, 1349, 30)     5145090     ['input_2[0][0]']                \n",
            "                                                                                                  \n",
            " lstm_1 (LSTM)                  (None, 128)          81408       ['embedding_1[0][0]']            \n",
            "                                                                                                  \n",
            " dense_1 (Dense)                (None, 64)           8256        ['lstm_1[0][0]']                 \n",
            "                                                                                                  \n",
            " Malignant (Dense)              (None, 1)            65          ['dense_1[0][0]']                \n",
            "                                                                                                  \n",
            " Highly_Malignant (Dense)       (None, 1)            65          ['dense_1[0][0]']                \n",
            "                                                                                                  \n",
            " Rude (Dense)                   (None, 1)            65          ['dense_1[0][0]']                \n",
            "                                                                                                  \n",
            " Threat (Dense)                 (None, 1)            65          ['dense_1[0][0]']                \n",
            "                                                                                                  \n",
            " Abuse (Dense)                  (None, 1)            65          ['dense_1[0][0]']                \n",
            "                                                                                                  \n",
            " Loathe (Dense)                 (None, 1)            65          ['dense_1[0][0]']                \n",
            "                                                                                                  \n",
            "==================================================================================================\n",
            "Total params: 5,235,144\n",
            "Trainable params: 5,235,144\n",
            "Non-trainable params: 0\n",
            "__________________________________________________________________________________________________\n"
          ]
        }
      ]
    },
    {
      "cell_type": "code",
      "source": [
        "# Evaluate the model on the test data using `evaluate`\n",
        "\n",
        "print(\"Evaluate on test data\")\n",
        "results = trained_model.evaluate(test_tensor,[test_malignant,test_highly_malignant, test_rude, test_threat, test_abuse, test_loathe], batch_size=256)\n"
      ],
      "metadata": {
        "colab": {
          "base_uri": "https://localhost:8080/"
        },
        "id": "34nydIv_J0n2",
        "outputId": "78e61771-bccf-49bc-e3fe-58ea0dab094d"
      },
      "execution_count": null,
      "outputs": [
        {
          "output_type": "stream",
          "name": "stdout",
          "text": [
            "Evaluate on test data\n",
            "125/125 [==============================] - 15s 47ms/step - loss: 5.3893 - Malignant_loss: 2.0708 - Highly_Malignant_loss: 0.1956 - Rude_loss: 1.6438 - Threat_loss: 0.0655 - Abuse_loss: 1.2144 - Loathe_loss: 0.1992 - Malignant_accuracy: 0.8190 - Malignant_precision_1: 0.1084 - Malignant_recall_1: 0.1248 - Highly_Malignant_accuracy: 0.9893 - Highly_Malignant_precision_1: 0.0588 - Highly_Malignant_recall_1: 0.0064 - Rude_accuracy: 0.8906 - Rude_precision_1: 0.0309 - Rude_recall_1: 0.0359 - Threat_accuracy: 0.9970 - Threat_precision_1: 0.0000e+00 - Threat_recall_1: 0.0000e+00 - Abuse_accuracy: 0.9260 - Abuse_precision_1: 0.0806 - Abuse_recall_1: 0.0474 - Loathe_accuracy: 0.9886 - Loathe_precision_1: 0.0972 - Loathe_recall_1: 0.0230\n"
          ]
        }
      ]
    },
    {
      "cell_type": "code",
      "source": [
        "print(\"test loss, test acc:\", \"Loss:\",results[0],\"\\n\", \n",
        "                              \"Malignant_Loss:\", results[1],'\\n', \n",
        "                              \"Highly_Malignant_Loss:\", results[2],'\\n',\n",
        "                              \"Rude_loss:\",results[3],'\\n',\n",
        "                              \"Threat_Loss:\",results[4],\"\\n\", \n",
        "                              \"Abuse_Loss:\", results[5],'\\n', \n",
        "                              \"Loathe_Loss:\", results[6],'\\n',\n",
        "                              \"\\n\\n\",\n",
        "                              \"Malignant_Accuracy:\",results[7],'\\n',\n",
        "                              \"Malignant_Precision:\",results[8],'\\n',\n",
        "                              \"Malignant_Recall:\",results[9],'\\n',\n",
        "                              \"\\n\\n\",\n",
        "                              \"Highly_Malignant_Accuracy:\",results[10],'\\n',\n",
        "                              \"Highly_Malignant_Precision:\",results[11],'\\n',\n",
        "                              \"Highly_Malignant_Recall:\",results[12],'\\n',\n",
        "                              \"\\n\\n\",\n",
        "                              \"Rude_Accuracy:\",results[13],'\\n',\n",
        "                              \"Rude_Precision:\",results[14],'\\n',\n",
        "                              \"Rude_Recall:\", results[15],\"\\n\",\n",
        "                              \"\\n\\n\",\n",
        "                              \"Threat_Accuracy:\",results[16],'\\n',\n",
        "                              \"Threat_Precision:\",results[17],'\\n',\n",
        "                              \"Threat_Recall:\",results[18],'\\n',\n",
        "                              \"\\n\\n\",\n",
        "                              \"Abuse_Accuracy:\",results[19],'\\n',\n",
        "                              \"Abuse_Precision:\",results[20],'\\n',\n",
        "                              \"Abuse_Recall:\",results[21],'\\n',\n",
        "                              \"\\n\\n\",\n",
        "                              \"Loathe_Accuracy:\",results[22],'\\n',\n",
        "                              \"Loathe_Precision:\",results[23],'\\n',\n",
        "                              \"Loathe_Recall:\", results[24],\"\\n\")"
      ],
      "metadata": {
        "colab": {
          "base_uri": "https://localhost:8080/"
        },
        "id": "uZvttkHJK2jo",
        "outputId": "eccd7e4c-3ad4-4f8c-b6f6-c3c15e5235ac"
      },
      "execution_count": null,
      "outputs": [
        {
          "output_type": "stream",
          "name": "stdout",
          "text": [
            "test loss, test acc: Loss: 5.389316082000732 \n",
            " Malignant_Loss: 2.0707998275756836 \n",
            " Highly_Malignant_Loss: 0.19561278820037842 \n",
            " Rude_loss: 1.6438016891479492 \n",
            " Threat_Loss: 0.06549359112977982 \n",
            " Abuse_Loss: 1.2144418954849243 \n",
            " Loathe_Loss: 0.19916540384292603 \n",
            " \n",
            "\n",
            " Malignant_Accuracy: 0.8190192580223083 \n",
            " Malignant_Precision: 0.10837861150503159 \n",
            " Malignant_Recall: 0.12479420751333237 \n",
            " \n",
            "\n",
            " Highly_Malignant_Accuracy: 0.989315390586853 \n",
            " Highly_Malignant_Precision: 0.05882352963089943 \n",
            " Highly_Malignant_Recall: 0.006430868059396744 \n",
            " \n",
            "\n",
            " Rude_Accuracy: 0.8905530571937561 \n",
            " Rude_Precision: 0.03086419776082039 \n",
            " Rude_Recall: 0.035949669778347015 \n",
            " \n",
            "\n",
            " Threat_Accuracy: 0.9969606995582581 \n",
            " Threat_Precision: 0.0 \n",
            " Threat_Recall: 0.0 \n",
            " \n",
            "\n",
            " Abuse_Accuracy: 0.9259909391403198 \n",
            " Abuse_Precision: 0.08064515888690948 \n",
            " Abuse_Recall: 0.047408342361450195 \n",
            " \n",
            "\n",
            " Loathe_Accuracy: 0.9886260628700256 \n",
            " Loathe_Precision: 0.0972222238779068 \n",
            " Loathe_Recall: 0.02295081876218319 \n",
            "\n"
          ]
        }
      ]
    },
    {
      "cell_type": "code",
      "source": [
        "# Generate predictions (probabilities -- the output of the last layer)\n",
        "# on new data using `predict`\n",
        "print(\"Generate predictions for 3 samples\")\n",
        "predictions = trained_model.predict(test_tensor[:1])\n",
        "print(\"predictions shape:\", np.shape(predictions))"
      ],
      "metadata": {
        "colab": {
          "base_uri": "https://localhost:8080/"
        },
        "id": "oSgp67kCLvgQ",
        "outputId": "908c3b60-d69c-4511-d4bd-7362ab3270e9"
      },
      "execution_count": null,
      "outputs": [
        {
          "output_type": "stream",
          "name": "stdout",
          "text": [
            "Generate predictions for 3 samples\n",
            "predictions shape: (6, 1, 1)\n"
          ]
        }
      ]
    },
    {
      "cell_type": "code",
      "source": [
        "from tensorflow.keras.utils import plot_model\n",
        "plot_model(model, to_file='model.png')"
      ],
      "metadata": {
        "id": "4trkpX_dMy43",
        "colab": {
          "base_uri": "https://localhost:8080/",
          "height": 276
        },
        "outputId": "9293fbe7-3da6-4e81-c719-ea17de58050d"
      },
      "execution_count": null,
      "outputs": [
        {
          "output_type": "execute_result",
          "data": {
            "image/png": "[encoded data removed]",
            "text/plain": [
              "<IPython.core.display.Image object>"
            ]
          },
          "metadata": {},
          "execution_count": 36
        }
      ]
    },
    {
      "cell_type": "code",
      "source": [
        ""
      ],
      "metadata": {
        "id": "1ACdOO8SGIsq"
      },
      "execution_count": null,
      "outputs": []
    }
  ],
  "metadata": {
    "accelerator": "GPU",
    "colab": {
      "collapsed_sections": [],
      "name": "LSTM.ipynb",
      "provenance": [],
      "machine_shape": "hm",
      "mount_file_id": "1V1lLY7QqbQCTLNb1Jc7KmbZkVWHAJDCR",
      "authorship_tag": "ABX9TyN81FuH+bKsXHVNuGFVR1QQ",
      "include_colab_link": true
    },
    "kernelspec": {
      "display_name": "Python 3",
      "name": "python3"
    },
    "language_info": {
      "name": "python"
    }
  },
  "nbformat": 4,
  "nbformat_minor": 0
}